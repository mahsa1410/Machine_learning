{
 "cells": [
  {
   "cell_type": "markdown",
   "id": "25adc13d-d9e4-420c-8b22-32568fab412f",
   "metadata": {},
   "source": [
    "#### In this project, the basic materials of mathematics that are needed to work with machine learning are given."
   ]
  },
  {
   "cell_type": "code",
   "execution_count": 13,
   "id": "45c53419-4851-4621-9bb4-23801f9cd649",
   "metadata": {},
   "outputs": [],
   "source": [
    "import numpy as np\n",
    "from numpy.linalg import norm\n",
    "from math import inf"
   ]
  },
  {
   "cell_type": "code",
   "execution_count": 14,
   "id": "9029d351-c183-4af3-9056-b8badb2797f4",
   "metadata": {},
   "outputs": [
    {
     "name": "stdout",
     "output_type": "stream",
     "text": [
      "Manhattan norm is:  45.0\n",
      "Euclidean norm is:  16.881943016134134\n",
      "Max norm is:  9.0\n",
      "L5 norm is:  10.385594475335749\n"
     ]
    }
   ],
   "source": [
    "# array norm: \n",
    "a = np.array([1,2,3,4,5,6,7,8,9])\n",
    "print('Manhattan norm is: ',norm(a,1))\n",
    "print('Euclidean norm is: ',norm(a,2))\n",
    "print('Max norm is: ',norm(a,inf))\n",
    "print('L5 norm is: ',norm(a,5))"
   ]
  },
  {
   "cell_type": "code",
   "execution_count": 15,
   "id": "29c0a542-86c4-45db-84a4-eec8b0e67801",
   "metadata": {},
   "outputs": [
    {
     "name": "stdout",
     "output_type": "stream",
     "text": [
      "[ 1.61168440e+01 -1.11684397e+00 -9.75918483e-16] \n",
      "\n",
      "[[-0.23197069 -0.78583024  0.40824829]\n",
      " [-0.52532209 -0.08675134 -0.81649658]\n",
      " [-0.8186735   0.61232756  0.40824829]] \n",
      "\n",
      "[ -3.73863537  -8.46653421 -13.19443305]\n",
      "[ -3.73863537  -8.46653421 -13.19443305] \n",
      "\n",
      "[[1. 2. 3.]\n",
      " [4. 5. 6.]\n",
      " [7. 8. 9.]]\n"
     ]
    }
   ],
   "source": [
    "# Eigen decomposition:\n",
    "from numpy import array\n",
    "from numpy.linalg import eig\n",
    "from numpy.linalg import inv\n",
    "from numpy import diag\n",
    "\n",
    "a = array([[1,2,3],[4,5,6],[7,8,9]])\n",
    "values,vectors = eig(a)\n",
    "print(values , '\\n')\n",
    "print(vectors, '\\n')\n",
    "\n",
    "print(a.dot(vectors[:,0])) #A.v\n",
    "print(values[0]*vectors[:,0],'\\n') #lambda*v\n",
    "\n",
    "vectors_inv = inv(vectors)\n",
    "lambdaaz = diag(values)\n",
    "\n",
    "print( vectors.dot(lambdaaz).dot(vectors_inv) )"
   ]
  },
  {
   "cell_type": "code",
   "execution_count": 16,
   "id": "336d3cf0-7b48-4f63-bb04-7469c552b9e0",
   "metadata": {},
   "outputs": [
    {
     "name": "stdout",
     "output_type": "stream",
     "text": [
      "[[-0.2298477   0.88346102  0.40824829]\n",
      " [-0.52474482  0.24078249 -0.81649658]\n",
      " [-0.81964194 -0.40189603  0.40824829]] \n",
      "\n",
      "[9.52551809 0.51430058] \n",
      "\n",
      "[[-0.61962948 -0.78489445]\n",
      " [-0.78489445  0.61962948]] \n",
      "\n",
      "[[1. 2.]\n",
      " [3. 4.]\n",
      " [5. 6.]]\n",
      "[[1. 2.]\n",
      " [3. 4.]\n",
      " [5. 6.]]\n"
     ]
    }
   ],
   "source": [
    "# SVD decomposition:\n",
    "from numpy import array\n",
    "from scipy.linalg import svd\n",
    "from numpy import diag,zeros\n",
    "A= array ([\n",
    "    [1,2],\n",
    "    [3,4],\n",
    "    [5,6]\n",
    "    ])\n",
    "U,S,V = svd(A)\n",
    "print(U,'\\n')\n",
    "print(S,'\\n')\n",
    "print(V,'\\n')\n",
    "\n",
    "\n",
    "sigma = zeros((A.shape[0],A.shape[1]))\n",
    "sigma[:min(A.shape) , :min(A.shape)] = diag(S)\n",
    "\n",
    "print(U.dot(sigma).dot(V.T) )\n",
    "print(U.dot(sigma).dot(V) )"
   ]
  },
  {
   "cell_type": "code",
   "execution_count": 17,
   "id": "8e994a98-9107-469a-b558-27f28ded04cf",
   "metadata": {},
   "outputs": [
    {
     "name": "stdout",
     "output_type": "stream",
     "text": [
      "[3. 4.]\n",
      "[1.5 3.5 5.5]\n"
     ]
    }
   ],
   "source": [
    "#mean :\n",
    "\n",
    "from numpy import array\n",
    "from numpy import mean\n",
    "\n",
    "A= array ([\n",
    "    [1,2],\n",
    "    [3,4],\n",
    "    [5,6]\n",
    "    ])\n",
    "\n",
    "print(mean(A,axis=0)) #میانگین ستونی\n",
    "print(mean(A,axis=1)) #میانگین سطری"
   ]
  },
  {
   "cell_type": "code",
   "execution_count": 18,
   "id": "7c0a3054-7a66-4fe6-9fff-6133005e831b",
   "metadata": {},
   "outputs": [
    {
     "name": "stdout",
     "output_type": "stream",
     "text": [
      "7.5 \n",
      "\n",
      "6.666666666666667 \n",
      "\n",
      "6.666666666666667 \n",
      "\n",
      "[6. 6. 6.]\n"
     ]
    }
   ],
   "source": [
    "#Variance:\n",
    "\n",
    "from numpy import array , var\n",
    "my_matrix = array ([\n",
    "    [1,2,3],\n",
    "    [4,5,6],\n",
    "    [7,8,9]\n",
    "])\n",
    "print(var(my_matrix,ddof = 1),'\\n') #degree of freedom = 1\n",
    "print(var(my_matrix,ddof = 0),'\\n') #degree of freedom = 0\n",
    "#also can use:\n",
    "print( my_matrix.var(),'\\n')# default ddof =0\n",
    "print( my_matrix.var(axis=0 ) ) # degree of freedom =1"
   ]
  },
  {
   "cell_type": "code",
   "execution_count": 19,
   "id": "84f608af-ab13-4090-b7e0-e098fa00e724",
   "metadata": {},
   "outputs": [
    {
     "name": "stdout",
     "output_type": "stream",
     "text": [
      "2.7386127875258306\n",
      "2.581988897471611\n",
      "[2.44948974 2.44948974 2.44948974]\n"
     ]
    }
   ],
   "source": [
    "from numpy import std\n",
    "my_matrix = array ([\n",
    "    [1,2,3],\n",
    "    [4,5,6],\n",
    "    [7,8,9]\n",
    "])\n",
    "print(std(my_matrix, ddof =1)) #degree of freedom = 1\n",
    "#also can use:\n",
    "print(my_matrix.std()) # default ddof =0\n",
    "print(my_matrix.std(axis = 0))"
   ]
  },
  {
   "cell_type": "code",
   "execution_count": 20,
   "id": "e5e00b4f-16ba-486d-9e86-26bd99a4c026",
   "metadata": {},
   "outputs": [
    {
     "name": "stdout",
     "output_type": "stream",
     "text": [
      "**std\n",
      " 10.0\n",
      "19.12589867169645\n",
      "1.6733200530681511\n",
      "13.209424245170148 \n",
      "\n",
      "\n",
      "**covariance*\n",
      " [[100.   123.75  13.75]\n",
      " [123.75 365.8   30.7 ]\n",
      " [ 13.75  30.7    2.8 ]]\n",
      "**var = covariance E har motheghayyer baa khodesh: \n",
      " 100.0\n",
      "365.80000000000007\n",
      "2.8\n",
      "\n",
      "**cerrelation*\n",
      " [[1.         0.64702842 0.82171967]\n",
      " [0.64702842 1.         0.95926259]\n",
      " [0.82171967 0.95926259 1.        ]] \n",
      "\n",
      "\n",
      "corelation = cov(x,y)/std_x * std_y: \n",
      " 0.6470284200717429\n"
     ]
    }
   ],
   "source": [
    "# standard deviation, Correlation, Variance:\n",
    "\n",
    "from numpy import array , corrcoef , cov, std , mean,var\n",
    "x=array([\n",
    "    [10,40,8],\n",
    "    [30,50,10],\n",
    "    [20,15,7],\n",
    "    [10,10,6],\n",
    "    [5,8,6]\n",
    "])\n",
    "\n",
    "#print(mean(x, axis=0))\n",
    "print('**std\\n',std(x[:,0],ddof=1))\n",
    "print(std(x[:,1],ddof=1))\n",
    "print(std(x[:,2],ddof=1))\n",
    "print(std(x),'\\n')\n",
    "\n",
    "print('\\n**covariance*\\n',cov(x.T))\n",
    "\n",
    "print('**var = covariance E har motheghayyer baa khodesh: \\n',var(x[:,0],ddof=1))\n",
    "print(var(x[:,1],ddof=1))\n",
    "print(var(x[:,2],ddof=1))\n",
    "\n",
    "print ('\\n**cerrelation*\\n',corrcoef(x.T),'\\n\\n')\n",
    "\n",
    "print('corelation = cov(x,y)/std_x * std_y: \\n', cov(x.T)[0,1]/(std(x[:,0],ddof=1)*std(x[:,1],ddof=1)))\n"
   ]
  },
  {
   "cell_type": "code",
   "execution_count": null,
   "id": "9a37b3d9-6abb-4bc9-a65d-13315eba78f1",
   "metadata": {},
   "outputs": [],
   "source": []
  }
 ],
 "metadata": {
  "kernelspec": {
   "display_name": "Python 3 (ipykernel)",
   "language": "python",
   "name": "python3"
  },
  "language_info": {
   "codemirror_mode": {
    "name": "ipython",
    "version": 3
   },
   "file_extension": ".py",
   "mimetype": "text/x-python",
   "name": "python",
   "nbconvert_exporter": "python",
   "pygments_lexer": "ipython3",
   "version": "3.11.5"
  }
 },
 "nbformat": 4,
 "nbformat_minor": 5
}
