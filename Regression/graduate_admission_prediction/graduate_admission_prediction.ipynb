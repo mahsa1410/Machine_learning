{
 "cells": [
  {
   "cell_type": "markdown",
   "id": "16902179-916f-474d-86ce-89f6e375b5d3",
   "metadata": {},
   "source": [
    "#### This project uses linear Regression, Ridge, Lasso and Elastic-Net to predict the chances of people being admitted to university. Input data includes student's score and other attributes... . at the end, models are evaluated by different metrics like : MAE, MSE, R2-score, Max-Error"
   ]
  },
  {
   "cell_type": "code",
   "execution_count": 2,
   "id": "14182e0e-4c54-4a27-a549-eaec3e7d7804",
   "metadata": {},
   "outputs": [],
   "source": [
    "import numpy as np\n",
    "import pandas as pd\n",
    "import seaborn as sns\n",
    "import matplotlib.pyplot as plt\n",
    "\n",
    "from sklearn.model_selection import train_test_split\n",
    "from sklearn.linear_model import LinearRegression"
   ]
  },
  {
   "cell_type": "markdown",
   "id": "b0059dc2-f63e-4bd0-a32a-92b302e5e89c",
   "metadata": {},
   "source": [
    "# load data:"
   ]
  },
  {
   "cell_type": "code",
   "execution_count": 3,
   "id": "4a184ac9-feba-40ae-a77d-5adb43f4834c",
   "metadata": {},
   "outputs": [
    {
     "data": {
      "text/html": [
       "<div>\n",
       "<style scoped>\n",
       "    .dataframe tbody tr th:only-of-type {\n",
       "        vertical-align: middle;\n",
       "    }\n",
       "\n",
       "    .dataframe tbody tr th {\n",
       "        vertical-align: top;\n",
       "    }\n",
       "\n",
       "    .dataframe thead th {\n",
       "        text-align: right;\n",
       "    }\n",
       "</style>\n",
       "<table border=\"1\" class=\"dataframe\">\n",
       "  <thead>\n",
       "    <tr style=\"text-align: right;\">\n",
       "      <th></th>\n",
       "      <th>Serial No.</th>\n",
       "      <th>GRE Score</th>\n",
       "      <th>TOEFL Score</th>\n",
       "      <th>University Rating</th>\n",
       "      <th>SOP</th>\n",
       "      <th>LOR</th>\n",
       "      <th>CGPA</th>\n",
       "      <th>Research</th>\n",
       "      <th>Chance of Admit</th>\n",
       "    </tr>\n",
       "  </thead>\n",
       "  <tbody>\n",
       "    <tr>\n",
       "      <th>count</th>\n",
       "      <td>500.000000</td>\n",
       "      <td>500.000000</td>\n",
       "      <td>500.000000</td>\n",
       "      <td>500.000000</td>\n",
       "      <td>500.000000</td>\n",
       "      <td>500.00000</td>\n",
       "      <td>500.000000</td>\n",
       "      <td>500.000000</td>\n",
       "      <td>500.00000</td>\n",
       "    </tr>\n",
       "    <tr>\n",
       "      <th>mean</th>\n",
       "      <td>250.500000</td>\n",
       "      <td>316.472000</td>\n",
       "      <td>107.192000</td>\n",
       "      <td>3.114000</td>\n",
       "      <td>3.374000</td>\n",
       "      <td>3.48400</td>\n",
       "      <td>8.576440</td>\n",
       "      <td>0.560000</td>\n",
       "      <td>0.72174</td>\n",
       "    </tr>\n",
       "    <tr>\n",
       "      <th>std</th>\n",
       "      <td>144.481833</td>\n",
       "      <td>11.295148</td>\n",
       "      <td>6.081868</td>\n",
       "      <td>1.143512</td>\n",
       "      <td>0.991004</td>\n",
       "      <td>0.92545</td>\n",
       "      <td>0.604813</td>\n",
       "      <td>0.496884</td>\n",
       "      <td>0.14114</td>\n",
       "    </tr>\n",
       "    <tr>\n",
       "      <th>min</th>\n",
       "      <td>1.000000</td>\n",
       "      <td>290.000000</td>\n",
       "      <td>92.000000</td>\n",
       "      <td>1.000000</td>\n",
       "      <td>1.000000</td>\n",
       "      <td>1.00000</td>\n",
       "      <td>6.800000</td>\n",
       "      <td>0.000000</td>\n",
       "      <td>0.34000</td>\n",
       "    </tr>\n",
       "    <tr>\n",
       "      <th>25%</th>\n",
       "      <td>125.750000</td>\n",
       "      <td>308.000000</td>\n",
       "      <td>103.000000</td>\n",
       "      <td>2.000000</td>\n",
       "      <td>2.500000</td>\n",
       "      <td>3.00000</td>\n",
       "      <td>8.127500</td>\n",
       "      <td>0.000000</td>\n",
       "      <td>0.63000</td>\n",
       "    </tr>\n",
       "    <tr>\n",
       "      <th>50%</th>\n",
       "      <td>250.500000</td>\n",
       "      <td>317.000000</td>\n",
       "      <td>107.000000</td>\n",
       "      <td>3.000000</td>\n",
       "      <td>3.500000</td>\n",
       "      <td>3.50000</td>\n",
       "      <td>8.560000</td>\n",
       "      <td>1.000000</td>\n",
       "      <td>0.72000</td>\n",
       "    </tr>\n",
       "    <tr>\n",
       "      <th>75%</th>\n",
       "      <td>375.250000</td>\n",
       "      <td>325.000000</td>\n",
       "      <td>112.000000</td>\n",
       "      <td>4.000000</td>\n",
       "      <td>4.000000</td>\n",
       "      <td>4.00000</td>\n",
       "      <td>9.040000</td>\n",
       "      <td>1.000000</td>\n",
       "      <td>0.82000</td>\n",
       "    </tr>\n",
       "    <tr>\n",
       "      <th>max</th>\n",
       "      <td>500.000000</td>\n",
       "      <td>340.000000</td>\n",
       "      <td>120.000000</td>\n",
       "      <td>5.000000</td>\n",
       "      <td>5.000000</td>\n",
       "      <td>5.00000</td>\n",
       "      <td>9.920000</td>\n",
       "      <td>1.000000</td>\n",
       "      <td>0.97000</td>\n",
       "    </tr>\n",
       "  </tbody>\n",
       "</table>\n",
       "</div>"
      ],
      "text/plain": [
       "       Serial No.   GRE Score  TOEFL Score  University Rating         SOP  \\\n",
       "count  500.000000  500.000000   500.000000         500.000000  500.000000   \n",
       "mean   250.500000  316.472000   107.192000           3.114000    3.374000   \n",
       "std    144.481833   11.295148     6.081868           1.143512    0.991004   \n",
       "min      1.000000  290.000000    92.000000           1.000000    1.000000   \n",
       "25%    125.750000  308.000000   103.000000           2.000000    2.500000   \n",
       "50%    250.500000  317.000000   107.000000           3.000000    3.500000   \n",
       "75%    375.250000  325.000000   112.000000           4.000000    4.000000   \n",
       "max    500.000000  340.000000   120.000000           5.000000    5.000000   \n",
       "\n",
       "            LOR         CGPA    Research  Chance of Admit   \n",
       "count  500.00000  500.000000  500.000000         500.00000  \n",
       "mean     3.48400    8.576440    0.560000           0.72174  \n",
       "std      0.92545    0.604813    0.496884           0.14114  \n",
       "min      1.00000    6.800000    0.000000           0.34000  \n",
       "25%      3.00000    8.127500    0.000000           0.63000  \n",
       "50%      3.50000    8.560000    1.000000           0.72000  \n",
       "75%      4.00000    9.040000    1.000000           0.82000  \n",
       "max      5.00000    9.920000    1.000000           0.97000  "
      ]
     },
     "execution_count": 3,
     "metadata": {},
     "output_type": "execute_result"
    }
   ],
   "source": [
    "data = pd.read_csv('Admission_Predict_Ver1.1.csv')\n",
    "data.describe()"
   ]
  },
  {
   "cell_type": "code",
   "execution_count": 4,
   "id": "7c66b62c-0394-4536-8197-51e38e621fdb",
   "metadata": {},
   "outputs": [
    {
     "name": "stdout",
     "output_type": "stream",
     "text": [
      "<class 'pandas.core.frame.DataFrame'>\n",
      "RangeIndex: 500 entries, 0 to 499\n",
      "Data columns (total 9 columns):\n",
      " #   Column             Non-Null Count  Dtype  \n",
      "---  ------             --------------  -----  \n",
      " 0   Serial No.         500 non-null    int64  \n",
      " 1   GRE Score          500 non-null    int64  \n",
      " 2   TOEFL Score        500 non-null    int64  \n",
      " 3   University Rating  500 non-null    int64  \n",
      " 4   SOP                500 non-null    float64\n",
      " 5   LOR                500 non-null    float64\n",
      " 6   CGPA               500 non-null    float64\n",
      " 7   Research           500 non-null    int64  \n",
      " 8   Chance of Admit    500 non-null    float64\n",
      "dtypes: float64(4), int64(5)\n",
      "memory usage: 35.3 KB\n"
     ]
    }
   ],
   "source": [
    "data.info()"
   ]
  },
  {
   "cell_type": "code",
   "execution_count": 5,
   "id": "15e6a21b-0266-4bee-b398-422657f0d035",
   "metadata": {},
   "outputs": [
    {
     "data": {
      "text/plain": [
       "Serial No.           0\n",
       "GRE Score            0\n",
       "TOEFL Score          0\n",
       "University Rating    0\n",
       "SOP                  0\n",
       "LOR                  0\n",
       "CGPA                 0\n",
       "Research             0\n",
       "Chance of Admit      0\n",
       "dtype: int64"
      ]
     },
     "execution_count": 5,
     "metadata": {},
     "output_type": "execute_result"
    }
   ],
   "source": [
    "data.isna().sum()"
   ]
  },
  {
   "cell_type": "code",
   "execution_count": 6,
   "id": "f34cfd1c-6fbd-4f5a-b2b4-c71dd2adaf29",
   "metadata": {},
   "outputs": [
    {
     "data": {
      "text/plain": [
       "Serial No.           100.0\n",
       "GRE Score              9.8\n",
       "TOEFL Score            5.8\n",
       "University Rating      1.0\n",
       "SOP                    1.8\n",
       "LOR                    1.8\n",
       "CGPA                  36.8\n",
       "Research               0.4\n",
       "Chance of Admit       12.2\n",
       "dtype: float64"
      ]
     },
     "execution_count": 6,
     "metadata": {},
     "output_type": "execute_result"
    }
   ],
   "source": [
    "data.nunique() / data.shape[0] *100"
   ]
  },
  {
   "cell_type": "code",
   "execution_count": 7,
   "id": "22a52fa6-c5fc-41d0-a4b5-b0498306ef9d",
   "metadata": {},
   "outputs": [],
   "source": [
    "X = data.drop(columns=['Serial No.','Chance of Admit '])\n",
    "Y = data['Chance of Admit ']"
   ]
  },
  {
   "cell_type": "code",
   "execution_count": 8,
   "id": "3570e7c9-fdd3-4f01-969f-e775495908dc",
   "metadata": {},
   "outputs": [
    {
     "name": "stdout",
     "output_type": "stream",
     "text": [
      "(350, 7) (350,)\n",
      "(150, 7) (150,)\n"
     ]
    }
   ],
   "source": [
    "X_train , X_test , y_train , y_test = train_test_split(X , Y , test_size= 0.3)\n",
    "print(X_train.shape , y_train.shape)\n",
    "print(X_test.shape , y_test.shape)"
   ]
  },
  {
   "cell_type": "markdown",
   "id": "b81ba24c-5a47-4c15-b8ad-da1ea8ffc695",
   "metadata": {},
   "source": [
    "# Regression\n",
    "\n",
    "\n",
    "## Linear Models:\n",
    "$$\\hat{y}(w, x) = w_0 + w_1 x_1 + \\cdots + w_p x_p$$"
   ]
  },
  {
   "cell_type": "code",
   "execution_count": 9,
   "id": "f39caded-0fd8-45e2-99e8-cd822fc0355a",
   "metadata": {},
   "outputs": [
    {
     "name": "stdout",
     "output_type": "stream",
     "text": [
      "[-0.00280929  0.00338525  0.0154335   0.0105846   0.01477822  0.1253834\n",
      "  0.06686069] \n",
      "\n",
      "0.0\n"
     ]
    }
   ],
   "source": [
    "lr1= LinearRegression(fit_intercept= False)\n",
    "lr1.fit(X_train,y_train)\n",
    "y_pred1 = lr1.predict(X_test)\n",
    "print(lr1.coef_ ,'\\n')\n",
    "print(lr1.intercept_)"
   ]
  },
  {
   "cell_type": "code",
   "execution_count": 10,
   "id": "fb9718a2-ac4d-49b8-80ad-a6bbe37ad769",
   "metadata": {},
   "outputs": [
    {
     "name": "stdout",
     "output_type": "stream",
     "text": [
      "[0.00171333 0.00271316 0.00561998 0.00395478 0.01258884 0.11481933\n",
      " 0.03578688] \n",
      "\n",
      "-1.1922007852452308\n"
     ]
    }
   ],
   "source": [
    "lr2 = LinearRegression(fit_intercept= True)\n",
    "lr2.fit(X_train,y_train)\n",
    "y_pred2 = lr2.predict(X_test)\n",
    "print(lr2.coef_ ,'\\n')\n",
    "print(lr2.intercept_)"
   ]
  },
  {
   "cell_type": "code",
   "execution_count": 11,
   "id": "771660e0-2e51-425d-8e57-0c13528f2b41",
   "metadata": {},
   "outputs": [],
   "source": [
    "from sklearn.preprocessing import PolynomialFeatures\n",
    "from sklearn.pipeline import Pipeline"
   ]
  },
  {
   "cell_type": "markdown",
   "id": "db80cfd3-9451-4622-b5e3-03e3ad99e1a9",
   "metadata": {},
   "source": [
    "## Polynomial Model:"
   ]
  },
  {
   "cell_type": "code",
   "execution_count": 12,
   "id": "e4080c44-b094-4418-bb6d-e758b5ceb319",
   "metadata": {},
   "outputs": [],
   "source": [
    "my_steps = [('polynomial features', PolynomialFeatures(degree=2)),\n",
    "           ('linear regression', LinearRegression(fit_intercept=False))]\n",
    "lr3 = Pipeline(steps=my_steps)\n",
    "lr3.fit(X_train,y_train)\n",
    "y_pred3 = lr3.predict(X_test)"
   ]
  },
  {
   "cell_type": "markdown",
   "id": "a522a9a0-2f18-4c00-b0be-023c52802fb0",
   "metadata": {},
   "source": [
    "# Visualization:"
   ]
  },
  {
   "cell_type": "code",
   "execution_count": 13,
   "id": "72679894-1905-4524-a780-f871fb106324",
   "metadata": {},
   "outputs": [
    {
     "data": {
      "image/png": "[encoded data removed]",
      "text/plain": [
       "<Figure size 1400x300 with 3 Axes>"
      ]
     },
     "metadata": {},
     "output_type": "display_data"
    }
   ],
   "source": [
    "plt.figure(figsize=(14,3))\n",
    "\n",
    "plt.subplot(131)\n",
    "plt.scatter(y_test, y_pred1, alpha= 0.2)\n",
    "plt.plot(np.linspace(0.3,1,200),np.linspace(0.3,1,200), c = 'r');\n",
    "plt.xlabel('true value')\n",
    "plt.ylabel('pred1: without intercept')\n",
    "\n",
    "plt.subplot(132)\n",
    "plt.scatter(y_test, y_pred2 , alpha= 0.2)\n",
    "plt.plot(np.linspace(0.3,1,200),np.linspace(0.3,1,200),c ='r')\n",
    "plt.xlabel('true value')\n",
    "plt.ylabel('pred2: with intercept')\n",
    "\n",
    "plt.subplot(133)\n",
    "plt.scatter(y_test, y_pred3 , alpha= 0.2)\n",
    "plt.plot(np.linspace(0.3,1,200),np.linspace(0.3,1,200),c ='r')\n",
    "plt.xlabel('true value')\n",
    "plt.ylabel('pred3: polynomial')\n",
    "\n",
    "plt.show()"
   ]
  },
  {
   "cell_type": "markdown",
   "id": "4df471df-6d47-47fd-889d-9c4ad84c9830",
   "metadata": {},
   "source": [
    "## Linear Ridge:\n",
    "$$\\min_{\\omega} \\| X\\omega - y\\|_2^2 + \\alpha \\|\\omega\\|^2_2$$"
   ]
  },
  {
   "cell_type": "code",
   "execution_count": 19,
   "id": "0266e5dc-1e9b-4b5a-8b39-e4182b027f65",
   "metadata": {},
   "outputs": [],
   "source": [
    "from sklearn.linear_model import Ridge\n",
    "steps =[('polynomial', PolynomialFeatures(degree=2)),\n",
    "        ('linear Ridge', Ridge(alpha= 5 ,fit_intercept= False))]\n",
    "lr4 = Pipeline(steps= steps)\n",
    "lr4.fit(X_train, y_train)\n",
    "y_pred4 = lr4.predict(X_test)"
   ]
  },
  {
   "cell_type": "markdown",
   "id": "e6a55f15-497c-4933-a996-0c1d3e2c7260",
   "metadata": {},
   "source": [
    "## Linear Lasso:\n",
    "$$\\min_{\\omega} \\frac{1}{n_{sample}}\\| X\\omega - y\\|_2^2 + \\alpha \\|\\omega\\|_1$$"
   ]
  },
  {
   "cell_type": "code",
   "execution_count": 20,
   "id": "3186a149-c2d9-43c6-b923-103a601e624e",
   "metadata": {},
   "outputs": [
    {
     "name": "stderr",
     "output_type": "stream",
     "text": [
      "C:\\Users\\ASUS\\miniconda3\\Lib\\site-packages\\sklearn\\linear_model\\_coordinate_descent.py:678: ConvergenceWarning: Objective did not converge. You might want to increase the number of iterations, check the scale of the features or consider increasing regularisation. Duality gap: 3.122e-01, tolerance: 1.863e-02\n",
      "  model = cd_fast.enet_coordinate_descent(\n"
     ]
    }
   ],
   "source": [
    "from sklearn.linear_model import Lasso\n",
    "steps =[('polynomial', PolynomialFeatures(degree=2)),\n",
    "        ('linear Ridge', Lasso(alpha= 5 ,fit_intercept= False))]\n",
    "lr5 = Pipeline(steps= steps)\n",
    "lr5.fit(X_train, y_train)\n",
    "y_pred5 = lr5.predict(X_test)"
   ]
  },
  {
   "cell_type": "markdown",
   "id": "46e38ccc-d08f-4672-a697-e5638c8f36f1",
   "metadata": {},
   "source": [
    "## Elastic-Net Model\n",
    "$$\\min_{w} \\frac{1}{2 n_{Samples}} \\|Xw - y\\|^2_2 + \\alpha \\rho\\|w\\|_1 + \\frac{\\alpha(1-\\rho)}{2}\\|w\\|_2^2, ~~~~0\\leq \\rho \\leq 1$$"
   ]
  },
  {
   "cell_type": "code",
   "execution_count": null,
   "id": "cccae182-2f01-4029-a91c-9ed196929ce8",
   "metadata": {},
   "outputs": [],
   "source": []
  }
 ],
 "metadata": {
  "kernelspec": {
   "display_name": "Python 3 (ipykernel)",
   "language": "python",
   "name": "python3"
  },
  "language_info": {
   "codemirror_mode": {
    "name": "ipython",
    "version": 3
   },
   "file_extension": ".py",
   "mimetype": "text/x-python",
   "name": "python",
   "nbconvert_exporter": "python",
   "pygments_lexer": "ipython3",
   "version": "3.11.5"
  }
 },
 "nbformat": 4,
 "nbformat_minor": 5
}
