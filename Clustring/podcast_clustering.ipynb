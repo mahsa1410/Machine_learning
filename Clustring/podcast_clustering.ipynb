{
 "cells": [
  {
   "cell_type": "markdown",
   "id": "d7b4b522-7cd0-4898-a3cc-35febcaca4ad",
   "metadata": {},
   "source": [
    "#### cluster the data of link below:\n",
    "#### data set link: https://www.kaggle.com/datasets/illiamakovoz/most-popular-en-podcasts-with-ratings-description\n",
    "##### This dataset is the largest publicly available collection of English podcasts on the free internet. It was collected using a specifically developed BFS algorithm. Data were sourced from iTunes, Podcast Index, and Podtail. The goal was to gather a large dataset and create a personalized recommendation system."
   ]
  },
  {
   "cell_type": "code",
   "execution_count": 102,
   "id": "05365e98-9b8c-4d0e-9879-5557aa3a4d03",
   "metadata": {},
   "outputs": [],
   "source": [
    "import numpy as np\n",
    "import pandas as pd\n",
    "import matplotlib.pyplot as plt\n",
    "import seaborn as sns"
   ]
  },
  {
   "cell_type": "code",
   "execution_count": 103,
   "id": "e3c70892-a68e-4a51-916f-5add7617a1c5",
   "metadata": {},
   "outputs": [],
   "source": [
    "data = pd.read_excel('podcasts_en.xlsx' , engine='openpyxl')"
   ]
  },
  {
   "cell_type": "code",
   "execution_count": 104,
   "id": "059cf4c2-bc35-4cf3-8c63-eddeea1c04e5",
   "metadata": {},
   "outputs": [
    {
     "data": {
      "text/html": [
       "<div>\n",
       "<style scoped>\n",
       "    .dataframe tbody tr th:only-of-type {\n",
       "        vertical-align: middle;\n",
       "    }\n",
       "\n",
       "    .dataframe tbody tr th {\n",
       "        vertical-align: top;\n",
       "    }\n",
       "\n",
       "    .dataframe thead th {\n",
       "        text-align: right;\n",
       "    }\n",
       "</style>\n",
       "<table border=\"1\" class=\"dataframe\">\n",
       "  <thead>\n",
       "    <tr style=\"text-align: right;\">\n",
       "      <th></th>\n",
       "      <th>podcast_name</th>\n",
       "      <th>podtail_link</th>\n",
       "      <th>itunes_id</th>\n",
       "      <th>podcastindex_id</th>\n",
       "      <th>description</th>\n",
       "      <th>rss_link</th>\n",
       "      <th>language</th>\n",
       "      <th>categories</th>\n",
       "      <th>number_of_podcasts</th>\n",
       "      <th>rating</th>\n",
       "    </tr>\n",
       "  </thead>\n",
       "  <tbody>\n",
       "    <tr>\n",
       "      <th>0</th>\n",
       "      <td>Huberman Lab</td>\n",
       "      <td>https://podtail.com/podcast/huberman-lab/</td>\n",
       "      <td>1545953110</td>\n",
       "      <td>1365758</td>\n",
       "      <td>Huberman Lab discusses neuroscience: how our b...</td>\n",
       "      <td>https://hubermanlab.libsyn.com/rss</td>\n",
       "      <td>en</td>\n",
       "      <td>Health,Fitness,Science</td>\n",
       "      <td>173.0</td>\n",
       "      <td>4.9</td>\n",
       "    </tr>\n",
       "    <tr>\n",
       "      <th>1</th>\n",
       "      <td>Dateline NBC</td>\n",
       "      <td>https://podtail.com/podcast/dateline-nbc/</td>\n",
       "      <td>1464919521</td>\n",
       "      <td>945141</td>\n",
       "      <td>Current and classic episodes, featuring compel...</td>\n",
       "      <td>https://podcastfeeds.nbcnews.com/dateline-nbc</td>\n",
       "      <td>en</td>\n",
       "      <td>News,Society,Culture,True Crime</td>\n",
       "      <td>469.0</td>\n",
       "      <td>4.4</td>\n",
       "    </tr>\n",
       "    <tr>\n",
       "      <th>2</th>\n",
       "      <td>SmartLess</td>\n",
       "      <td>https://podtail.com/podcast/smartless/</td>\n",
       "      <td>1521578868</td>\n",
       "      <td>150970</td>\n",
       "      <td>SmartLess with Jason Bateman, Sean Hayes, &amp; Wi...</td>\n",
       "      <td>https://feeds.simplecast.com/pvzhyDQn</td>\n",
       "      <td>en</td>\n",
       "      <td>Comedy,Education,Society,Culture</td>\n",
       "      <td>184.0</td>\n",
       "      <td>4.7</td>\n",
       "    </tr>\n",
       "    <tr>\n",
       "      <th>3</th>\n",
       "      <td>The Daily</td>\n",
       "      <td>https://podtail.com/podcast/the-daily/</td>\n",
       "      <td>1200361736</td>\n",
       "      <td>743229</td>\n",
       "      <td>This is what the news should sound like. The b...</td>\n",
       "      <td>http://rss.art19.com/the-daily</td>\n",
       "      <td>en</td>\n",
       "      <td>News,Daily</td>\n",
       "      <td>1973.0</td>\n",
       "      <td>4.4</td>\n",
       "    </tr>\n",
       "    <tr>\n",
       "      <th>4</th>\n",
       "      <td>Stuff You Should Know</td>\n",
       "      <td>https://podtail.com/podcast/stuff-you-should-k...</td>\n",
       "      <td>278981407</td>\n",
       "      <td>827592</td>\n",
       "      <td>If you've ever wanted to know about champagne,...</td>\n",
       "      <td>https://feeds.megaphone.fm/stuffyoushouldknow</td>\n",
       "      <td>en-US</td>\n",
       "      <td>Society,Culture</td>\n",
       "      <td>2218.0</td>\n",
       "      <td>4.5</td>\n",
       "    </tr>\n",
       "  </tbody>\n",
       "</table>\n",
       "</div>"
      ],
      "text/plain": [
       "            podcast_name                                       podtail_link  \\\n",
       "0           Huberman Lab          https://podtail.com/podcast/huberman-lab/   \n",
       "1           Dateline NBC          https://podtail.com/podcast/dateline-nbc/   \n",
       "2              SmartLess             https://podtail.com/podcast/smartless/   \n",
       "3              The Daily             https://podtail.com/podcast/the-daily/   \n",
       "4  Stuff You Should Know  https://podtail.com/podcast/stuff-you-should-k...   \n",
       "\n",
       "    itunes_id  podcastindex_id  \\\n",
       "0  1545953110          1365758   \n",
       "1  1464919521           945141   \n",
       "2  1521578868           150970   \n",
       "3  1200361736           743229   \n",
       "4   278981407           827592   \n",
       "\n",
       "                                         description  \\\n",
       "0  Huberman Lab discusses neuroscience: how our b...   \n",
       "1  Current and classic episodes, featuring compel...   \n",
       "2  SmartLess with Jason Bateman, Sean Hayes, & Wi...   \n",
       "3  This is what the news should sound like. The b...   \n",
       "4  If you've ever wanted to know about champagne,...   \n",
       "\n",
       "                                        rss_link language  \\\n",
       "0             https://hubermanlab.libsyn.com/rss       en   \n",
       "1  https://podcastfeeds.nbcnews.com/dateline-nbc       en   \n",
       "2          https://feeds.simplecast.com/pvzhyDQn       en   \n",
       "3                 http://rss.art19.com/the-daily       en   \n",
       "4  https://feeds.megaphone.fm/stuffyoushouldknow    en-US   \n",
       "\n",
       "                         categories  number_of_podcasts  rating  \n",
       "0            Health,Fitness,Science               173.0     4.9  \n",
       "1   News,Society,Culture,True Crime               469.0     4.4  \n",
       "2  Comedy,Education,Society,Culture               184.0     4.7  \n",
       "3                        News,Daily              1973.0     4.4  \n",
       "4                   Society,Culture              2218.0     4.5  "
      ]
     },
     "execution_count": 104,
     "metadata": {},
     "output_type": "execute_result"
    }
   ],
   "source": [
    "data.head()"
   ]
  },
  {
   "cell_type": "code",
   "execution_count": 105,
   "id": "8e07a825-8e72-463f-b3c0-62193661657c",
   "metadata": {},
   "outputs": [
    {
     "data": {
      "text/plain": [
       "Index(['podcast_name', 'podtail_link', 'itunes_id', 'podcastindex_id',\n",
       "       'description', 'rss_link', 'language', 'categories',\n",
       "       'number_of_podcasts', 'rating'],\n",
       "      dtype='object')"
      ]
     },
     "execution_count": 105,
     "metadata": {},
     "output_type": "execute_result"
    }
   ],
   "source": [
    "data.columns"
   ]
  },
  {
   "cell_type": "code",
   "execution_count": 106,
   "id": "e1a120af-4478-486a-adb5-2e13b4ac0b65",
   "metadata": {},
   "outputs": [
    {
     "name": "stdout",
     "output_type": "stream",
     "text": [
      "<class 'pandas.core.frame.DataFrame'>\n",
      "RangeIndex: 14220 entries, 0 to 14219\n",
      "Data columns (total 10 columns):\n",
      " #   Column              Non-Null Count  Dtype  \n",
      "---  ------              --------------  -----  \n",
      " 0   podcast_name        14220 non-null  object \n",
      " 1   podtail_link        14220 non-null  object \n",
      " 2   itunes_id           14220 non-null  int64  \n",
      " 3   podcastindex_id     14220 non-null  int64  \n",
      " 4   description         14220 non-null  object \n",
      " 5   rss_link            14220 non-null  object \n",
      " 6   language            14220 non-null  object \n",
      " 7   categories          14220 non-null  object \n",
      " 8   number_of_podcasts  14219 non-null  float64\n",
      " 9   rating              14220 non-null  float64\n",
      "dtypes: float64(2), int64(2), object(6)\n",
      "memory usage: 1.1+ MB\n"
     ]
    }
   ],
   "source": [
    "data.info()"
   ]
  },
  {
   "cell_type": "markdown",
   "id": "9a9d5049-9a13-4cd2-b9f9-dcb743d9614f",
   "metadata": {},
   "source": [
    "### OoooPs!\n",
    "#### one missing data in 'number_of_podcasts' column:"
   ]
  },
  {
   "cell_type": "code",
   "execution_count": 107,
   "id": "6da1e82f-d9e9-4bdb-ac2f-402b640aa896",
   "metadata": {},
   "outputs": [
    {
     "data": {
      "text/plain": [
       "podcast_name          0\n",
       "podtail_link          0\n",
       "itunes_id             0\n",
       "podcastindex_id       0\n",
       "description           0\n",
       "rss_link              0\n",
       "language              0\n",
       "categories            0\n",
       "number_of_podcasts    1\n",
       "rating                0\n",
       "dtype: int64"
      ]
     },
     "execution_count": 107,
     "metadata": {},
     "output_type": "execute_result"
    }
   ],
   "source": [
    "data.isna().sum()"
   ]
  },
  {
   "cell_type": "code",
   "execution_count": 108,
   "id": "897d510a-721b-4374-ba80-487d5dafbdff",
   "metadata": {},
   "outputs": [
    {
     "data": {
      "text/html": [
       "<div>\n",
       "<style scoped>\n",
       "    .dataframe tbody tr th:only-of-type {\n",
       "        vertical-align: middle;\n",
       "    }\n",
       "\n",
       "    .dataframe tbody tr th {\n",
       "        vertical-align: top;\n",
       "    }\n",
       "\n",
       "    .dataframe thead th {\n",
       "        text-align: right;\n",
       "    }\n",
       "</style>\n",
       "<table border=\"1\" class=\"dataframe\">\n",
       "  <thead>\n",
       "    <tr style=\"text-align: right;\">\n",
       "      <th></th>\n",
       "      <th>itunes_id</th>\n",
       "      <th>podcastindex_id</th>\n",
       "      <th>number_of_podcasts</th>\n",
       "      <th>rating</th>\n",
       "    </tr>\n",
       "  </thead>\n",
       "  <tbody>\n",
       "    <tr>\n",
       "      <th>count</th>\n",
       "      <td>1.422000e+04</td>\n",
       "      <td>1.422000e+04</td>\n",
       "      <td>14219.000000</td>\n",
       "      <td>14220.00000</td>\n",
       "    </tr>\n",
       "    <tr>\n",
       "      <th>mean</th>\n",
       "      <td>1.393499e+09</td>\n",
       "      <td>2.234065e+06</td>\n",
       "      <td>124.127505</td>\n",
       "      <td>3.84706</td>\n",
       "    </tr>\n",
       "    <tr>\n",
       "      <th>std</th>\n",
       "      <td>3.343195e+08</td>\n",
       "      <td>2.156048e+06</td>\n",
       "      <td>240.691077</td>\n",
       "      <td>1.89324</td>\n",
       "    </tr>\n",
       "    <tr>\n",
       "      <th>min</th>\n",
       "      <td>7.332927e+07</td>\n",
       "      <td>2.590000e+02</td>\n",
       "      <td>0.000000</td>\n",
       "      <td>0.00000</td>\n",
       "    </tr>\n",
       "    <tr>\n",
       "      <th>25%</th>\n",
       "      <td>1.372610e+09</td>\n",
       "      <td>5.479180e+05</td>\n",
       "      <td>19.000000</td>\n",
       "      <td>4.20000</td>\n",
       "    </tr>\n",
       "    <tr>\n",
       "      <th>50%</th>\n",
       "      <td>1.505474e+09</td>\n",
       "      <td>1.101269e+06</td>\n",
       "      <td>58.000000</td>\n",
       "      <td>4.80000</td>\n",
       "    </tr>\n",
       "    <tr>\n",
       "      <th>75%</th>\n",
       "      <td>1.577678e+09</td>\n",
       "      <td>4.114988e+06</td>\n",
       "      <td>142.000000</td>\n",
       "      <td>5.00000</td>\n",
       "    </tr>\n",
       "    <tr>\n",
       "      <th>max</th>\n",
       "      <td>1.712827e+09</td>\n",
       "      <td>6.657646e+06</td>\n",
       "      <td>10000.000000</td>\n",
       "      <td>5.00000</td>\n",
       "    </tr>\n",
       "  </tbody>\n",
       "</table>\n",
       "</div>"
      ],
      "text/plain": [
       "          itunes_id  podcastindex_id  number_of_podcasts       rating\n",
       "count  1.422000e+04     1.422000e+04        14219.000000  14220.00000\n",
       "mean   1.393499e+09     2.234065e+06          124.127505      3.84706\n",
       "std    3.343195e+08     2.156048e+06          240.691077      1.89324\n",
       "min    7.332927e+07     2.590000e+02            0.000000      0.00000\n",
       "25%    1.372610e+09     5.479180e+05           19.000000      4.20000\n",
       "50%    1.505474e+09     1.101269e+06           58.000000      4.80000\n",
       "75%    1.577678e+09     4.114988e+06          142.000000      5.00000\n",
       "max    1.712827e+09     6.657646e+06        10000.000000      5.00000"
      ]
     },
     "execution_count": 108,
     "metadata": {},
     "output_type": "execute_result"
    }
   ],
   "source": [
    "data.describe()"
   ]
  },
  {
   "cell_type": "code",
   "execution_count": 109,
   "id": "a01c7504-7a46-4b5e-a54a-5f106e9541fe",
   "metadata": {},
   "outputs": [
    {
     "data": {
      "text/html": [
       "<div>\n",
       "<style scoped>\n",
       "    .dataframe tbody tr th:only-of-type {\n",
       "        vertical-align: middle;\n",
       "    }\n",
       "\n",
       "    .dataframe tbody tr th {\n",
       "        vertical-align: top;\n",
       "    }\n",
       "\n",
       "    .dataframe thead th {\n",
       "        text-align: right;\n",
       "    }\n",
       "</style>\n",
       "<table border=\"1\" class=\"dataframe\">\n",
       "  <thead>\n",
       "    <tr style=\"text-align: right;\">\n",
       "      <th></th>\n",
       "      <th>podcast_name</th>\n",
       "      <th>podtail_link</th>\n",
       "      <th>itunes_id</th>\n",
       "      <th>podcastindex_id</th>\n",
       "      <th>description</th>\n",
       "      <th>rss_link</th>\n",
       "      <th>language</th>\n",
       "      <th>categories</th>\n",
       "      <th>number_of_podcasts</th>\n",
       "      <th>rating</th>\n",
       "    </tr>\n",
       "  </thead>\n",
       "  <tbody>\n",
       "    <tr>\n",
       "      <th>count</th>\n",
       "      <td>14220</td>\n",
       "      <td>14220</td>\n",
       "      <td>1.422000e+04</td>\n",
       "      <td>1.422000e+04</td>\n",
       "      <td>14220</td>\n",
       "      <td>14220</td>\n",
       "      <td>14220</td>\n",
       "      <td>14220</td>\n",
       "      <td>14219.000000</td>\n",
       "      <td>14220.00000</td>\n",
       "    </tr>\n",
       "    <tr>\n",
       "      <th>unique</th>\n",
       "      <td>14179</td>\n",
       "      <td>14204</td>\n",
       "      <td>NaN</td>\n",
       "      <td>NaN</td>\n",
       "      <td>14183</td>\n",
       "      <td>14199</td>\n",
       "      <td>19</td>\n",
       "      <td>5605</td>\n",
       "      <td>NaN</td>\n",
       "      <td>NaN</td>\n",
       "    </tr>\n",
       "    <tr>\n",
       "      <th>top</th>\n",
       "      <td>Imperial College Podcast</td>\n",
       "      <td>https://podtail.com/podcast/huberman-lab/</td>\n",
       "      <td>NaN</td>\n",
       "      <td>NaN</td>\n",
       "      <td>AMERICA'S RETURN TO SPACE -  News and Informat...</td>\n",
       "      <td>https://aboutspacetoday.libsyn.com/feed</td>\n",
       "      <td>en</td>\n",
       "      <td>Education</td>\n",
       "      <td>NaN</td>\n",
       "      <td>NaN</td>\n",
       "    </tr>\n",
       "    <tr>\n",
       "      <th>freq</th>\n",
       "      <td>4</td>\n",
       "      <td>2</td>\n",
       "      <td>NaN</td>\n",
       "      <td>NaN</td>\n",
       "      <td>4</td>\n",
       "      <td>4</td>\n",
       "      <td>9394</td>\n",
       "      <td>130</td>\n",
       "      <td>NaN</td>\n",
       "      <td>NaN</td>\n",
       "    </tr>\n",
       "    <tr>\n",
       "      <th>mean</th>\n",
       "      <td>NaN</td>\n",
       "      <td>NaN</td>\n",
       "      <td>1.393499e+09</td>\n",
       "      <td>2.234065e+06</td>\n",
       "      <td>NaN</td>\n",
       "      <td>NaN</td>\n",
       "      <td>NaN</td>\n",
       "      <td>NaN</td>\n",
       "      <td>124.127505</td>\n",
       "      <td>3.84706</td>\n",
       "    </tr>\n",
       "    <tr>\n",
       "      <th>std</th>\n",
       "      <td>NaN</td>\n",
       "      <td>NaN</td>\n",
       "      <td>3.343195e+08</td>\n",
       "      <td>2.156048e+06</td>\n",
       "      <td>NaN</td>\n",
       "      <td>NaN</td>\n",
       "      <td>NaN</td>\n",
       "      <td>NaN</td>\n",
       "      <td>240.691077</td>\n",
       "      <td>1.89324</td>\n",
       "    </tr>\n",
       "    <tr>\n",
       "      <th>min</th>\n",
       "      <td>NaN</td>\n",
       "      <td>NaN</td>\n",
       "      <td>7.332927e+07</td>\n",
       "      <td>2.590000e+02</td>\n",
       "      <td>NaN</td>\n",
       "      <td>NaN</td>\n",
       "      <td>NaN</td>\n",
       "      <td>NaN</td>\n",
       "      <td>0.000000</td>\n",
       "      <td>0.00000</td>\n",
       "    </tr>\n",
       "    <tr>\n",
       "      <th>25%</th>\n",
       "      <td>NaN</td>\n",
       "      <td>NaN</td>\n",
       "      <td>1.372610e+09</td>\n",
       "      <td>5.479180e+05</td>\n",
       "      <td>NaN</td>\n",
       "      <td>NaN</td>\n",
       "      <td>NaN</td>\n",
       "      <td>NaN</td>\n",
       "      <td>19.000000</td>\n",
       "      <td>4.20000</td>\n",
       "    </tr>\n",
       "    <tr>\n",
       "      <th>50%</th>\n",
       "      <td>NaN</td>\n",
       "      <td>NaN</td>\n",
       "      <td>1.505474e+09</td>\n",
       "      <td>1.101269e+06</td>\n",
       "      <td>NaN</td>\n",
       "      <td>NaN</td>\n",
       "      <td>NaN</td>\n",
       "      <td>NaN</td>\n",
       "      <td>58.000000</td>\n",
       "      <td>4.80000</td>\n",
       "    </tr>\n",
       "    <tr>\n",
       "      <th>75%</th>\n",
       "      <td>NaN</td>\n",
       "      <td>NaN</td>\n",
       "      <td>1.577678e+09</td>\n",
       "      <td>4.114988e+06</td>\n",
       "      <td>NaN</td>\n",
       "      <td>NaN</td>\n",
       "      <td>NaN</td>\n",
       "      <td>NaN</td>\n",
       "      <td>142.000000</td>\n",
       "      <td>5.00000</td>\n",
       "    </tr>\n",
       "    <tr>\n",
       "      <th>max</th>\n",
       "      <td>NaN</td>\n",
       "      <td>NaN</td>\n",
       "      <td>1.712827e+09</td>\n",
       "      <td>6.657646e+06</td>\n",
       "      <td>NaN</td>\n",
       "      <td>NaN</td>\n",
       "      <td>NaN</td>\n",
       "      <td>NaN</td>\n",
       "      <td>10000.000000</td>\n",
       "      <td>5.00000</td>\n",
       "    </tr>\n",
       "  </tbody>\n",
       "</table>\n",
       "</div>"
      ],
      "text/plain": [
       "                    podcast_name                               podtail_link  \\\n",
       "count                      14220                                      14220   \n",
       "unique                     14179                                      14204   \n",
       "top     Imperial College Podcast  https://podtail.com/podcast/huberman-lab/   \n",
       "freq                           4                                          2   \n",
       "mean                         NaN                                        NaN   \n",
       "std                          NaN                                        NaN   \n",
       "min                          NaN                                        NaN   \n",
       "25%                          NaN                                        NaN   \n",
       "50%                          NaN                                        NaN   \n",
       "75%                          NaN                                        NaN   \n",
       "max                          NaN                                        NaN   \n",
       "\n",
       "           itunes_id  podcastindex_id  \\\n",
       "count   1.422000e+04     1.422000e+04   \n",
       "unique           NaN              NaN   \n",
       "top              NaN              NaN   \n",
       "freq             NaN              NaN   \n",
       "mean    1.393499e+09     2.234065e+06   \n",
       "std     3.343195e+08     2.156048e+06   \n",
       "min     7.332927e+07     2.590000e+02   \n",
       "25%     1.372610e+09     5.479180e+05   \n",
       "50%     1.505474e+09     1.101269e+06   \n",
       "75%     1.577678e+09     4.114988e+06   \n",
       "max     1.712827e+09     6.657646e+06   \n",
       "\n",
       "                                              description  \\\n",
       "count                                               14220   \n",
       "unique                                              14183   \n",
       "top     AMERICA'S RETURN TO SPACE -  News and Informat...   \n",
       "freq                                                    4   \n",
       "mean                                                  NaN   \n",
       "std                                                   NaN   \n",
       "min                                                   NaN   \n",
       "25%                                                   NaN   \n",
       "50%                                                   NaN   \n",
       "75%                                                   NaN   \n",
       "max                                                   NaN   \n",
       "\n",
       "                                       rss_link language categories  \\\n",
       "count                                     14220    14220      14220   \n",
       "unique                                    14199       19       5605   \n",
       "top     https://aboutspacetoday.libsyn.com/feed       en  Education   \n",
       "freq                                          4     9394        130   \n",
       "mean                                        NaN      NaN        NaN   \n",
       "std                                         NaN      NaN        NaN   \n",
       "min                                         NaN      NaN        NaN   \n",
       "25%                                         NaN      NaN        NaN   \n",
       "50%                                         NaN      NaN        NaN   \n",
       "75%                                         NaN      NaN        NaN   \n",
       "max                                         NaN      NaN        NaN   \n",
       "\n",
       "        number_of_podcasts       rating  \n",
       "count         14219.000000  14220.00000  \n",
       "unique                 NaN          NaN  \n",
       "top                    NaN          NaN  \n",
       "freq                   NaN          NaN  \n",
       "mean            124.127505      3.84706  \n",
       "std             240.691077      1.89324  \n",
       "min               0.000000      0.00000  \n",
       "25%              19.000000      4.20000  \n",
       "50%              58.000000      4.80000  \n",
       "75%             142.000000      5.00000  \n",
       "max           10000.000000      5.00000  "
      ]
     },
     "execution_count": 109,
     "metadata": {},
     "output_type": "execute_result"
    }
   ],
   "source": [
    "data.describe(include='all')"
   ]
  },
  {
   "cell_type": "markdown",
   "id": "22aaba8c-8b58-41e3-b0b4-ccfe87d7d291",
   "metadata": {},
   "source": [
    "## let's get to know the data:"
   ]
  },
  {
   "cell_type": "code",
   "execution_count": 110,
   "id": "3150d50f-9dd2-4d91-a751-bb4b7f753e43",
   "metadata": {},
   "outputs": [
    {
     "data": {
      "text/plain": [
       "array(['en', 'en-US', 'en-us', 'en-ca', 'en-zw', 'en-gb', 'en-en',\n",
       "       'en-AU', 'en-au', 'en-IE', 'en-GB', 'en-CA', 'en-ie', 'EN',\n",
       "       'en-UK', 'en-uk', 'en-AUS', 'en-EN', 'en-PI'], dtype=object)"
      ]
     },
     "execution_count": 110,
     "metadata": {},
     "output_type": "execute_result"
    }
   ],
   "source": [
    "data['language'].unique()"
   ]
  },
  {
   "cell_type": "code",
   "execution_count": 111,
   "id": "bd8ac126-f976-4f46-8333-c7dfd1d5af3a",
   "metadata": {},
   "outputs": [
    {
     "data": {
      "text/plain": [
       "0                                   Health,Fitness,Science\n",
       "1                          News,Society,Culture,True Crime\n",
       "2                         Comedy,Education,Society,Culture\n",
       "3                                               News,Daily\n",
       "4                                          Society,Culture\n",
       "                               ...                        \n",
       "14215    News,Commentary,Society,Culture,Personal,Journals\n",
       "14216                   Society,Culture,News,Politics,Arts\n",
       "14217                             News,Commentary,Politics\n",
       "14218                               Health,Fitness,Science\n",
       "14219                      News,Society,Culture,True Crime\n",
       "Name: categories, Length: 14220, dtype: object"
      ]
     },
     "execution_count": 111,
     "metadata": {},
     "output_type": "execute_result"
    }
   ],
   "source": [
    "data['categories']"
   ]
  },
  {
   "cell_type": "code",
   "execution_count": 112,
   "id": "4c2506e1-0658-4375-a109-4419aa5fe32f",
   "metadata": {},
   "outputs": [
    {
     "data": {
      "text/plain": [
       "0                               [Health, Fitness, Science]\n",
       "1                     [News, Society, Culture, True Crime]\n",
       "2                    [Comedy, Education, Society, Culture]\n",
       "3                                            [News, Daily]\n",
       "4                                       [Society, Culture]\n",
       "                               ...                        \n",
       "14215    [News, Commentary, Society, Culture, Personal,...\n",
       "14216             [Society, Culture, News, Politics, Arts]\n",
       "14217                         [News, Commentary, Politics]\n",
       "14218                           [Health, Fitness, Science]\n",
       "14219                 [News, Society, Culture, True Crime]\n",
       "Name: categories, Length: 14220, dtype: object"
      ]
     },
     "execution_count": 112,
     "metadata": {},
     "output_type": "execute_result"
    }
   ],
   "source": [
    "data['categories'].str.split(',')"
   ]
  },
  {
   "cell_type": "code",
   "execution_count": 113,
   "id": "b8af865b-7af3-4d9d-a395-89916d3f3a25",
   "metadata": {},
   "outputs": [
    {
     "name": "stdout",
     "output_type": "stream",
     "text": [
      "There are 106 categories in total!\n"
     ]
    }
   ],
   "source": [
    "#split the categories\n",
    "categores = set()\n",
    "for each_lin in  data['categories'].str.split(','):\n",
    "    for category in each_lin:\n",
    "        categores.add(category)\n",
    "print('There are {} categories in total!'.format(len(categores)))\n"
   ]
  },
  {
   "cell_type": "code",
   "execution_count": 114,
   "id": "0dc53532-2196-4eef-9023-6249614c7bef",
   "metadata": {},
   "outputs": [
    {
     "data": {
      "text/plain": [
       "{'After-Shows',\n",
       " 'Alternative',\n",
       " 'Animals',\n",
       " 'Animation',\n",
       " 'Arts',\n",
       " 'Astronomy',\n",
       " 'Automotive',\n",
       " 'Aviation',\n",
       " 'Baseball',\n",
       " 'Basketball',\n",
       " 'Beauty',\n",
       " 'Books',\n",
       " 'Buddhism',\n",
       " 'Business',\n",
       " 'Careers',\n",
       " 'Chemistry',\n",
       " 'Christianity',\n",
       " 'Comedy',\n",
       " 'Commentary',\n",
       " 'Courses',\n",
       " 'Crafts',\n",
       " 'Cricket',\n",
       " 'Culture',\n",
       " 'Daily',\n",
       " 'Design',\n",
       " 'Documentary',\n",
       " 'Drama',\n",
       " 'Earth',\n",
       " 'Education',\n",
       " 'Entertainment',\n",
       " 'Entrepreneurship',\n",
       " 'Family',\n",
       " 'Fantasy',\n",
       " 'Fashion',\n",
       " 'Fiction',\n",
       " 'Film',\n",
       " 'Fitness',\n",
       " 'Food',\n",
       " 'Football',\n",
       " 'Games',\n",
       " 'Garden',\n",
       " 'Golf',\n",
       " 'Government',\n",
       " 'Health',\n",
       " 'Hinduism',\n",
       " 'History',\n",
       " 'Hobbies',\n",
       " 'Hockey',\n",
       " 'Home',\n",
       " 'How To',\n",
       " 'Improv',\n",
       " 'Interviews',\n",
       " 'Investing',\n",
       " 'Islam',\n",
       " 'Journals',\n",
       " 'Judaism',\n",
       " 'Kids',\n",
       " 'Language',\n",
       " 'Learning',\n",
       " 'Leisure',\n",
       " 'Life',\n",
       " 'Management',\n",
       " 'Manga',\n",
       " 'Marketing',\n",
       " 'Mathematics',\n",
       " 'Medicine',\n",
       " 'Mental',\n",
       " 'Music',\n",
       " 'Natural',\n",
       " 'Nature',\n",
       " 'News',\n",
       " 'Non-profit',\n",
       " 'Nutrition',\n",
       " 'Parenting',\n",
       " 'Performing',\n",
       " 'Personal',\n",
       " 'Pets',\n",
       " 'Philosophy',\n",
       " 'Physics',\n",
       " 'Places',\n",
       " 'Politics',\n",
       " 'Relationships',\n",
       " 'Religion',\n",
       " 'Reviews',\n",
       " 'Rugby',\n",
       " 'Running',\n",
       " 'Science',\n",
       " 'Self Improvement',\n",
       " 'Sexuality',\n",
       " 'Soccer',\n",
       " 'Social',\n",
       " 'Society',\n",
       " 'Spirituality',\n",
       " 'Sports',\n",
       " 'Stand-up',\n",
       " 'Stories',\n",
       " 'Swimming',\n",
       " 'Technology',\n",
       " 'Tennis',\n",
       " 'Travel',\n",
       " 'True Crime',\n",
       " 'Tv',\n",
       " 'Video Games',\n",
       " 'Visual',\n",
       " 'Wilderness',\n",
       " 'Wrestling'}"
      ]
     },
     "execution_count": 114,
     "metadata": {},
     "output_type": "execute_result"
    }
   ],
   "source": [
    "categores"
   ]
  },
  {
   "cell_type": "markdown",
   "id": "0cb36fab-762b-4fd4-9b78-0a6a29bd87cb",
   "metadata": {},
   "source": [
    "#### let's create a one-hot matrix with 106 columns:"
   ]
  },
  {
   "cell_type": "code",
   "execution_count": 115,
   "id": "f03446fb-e5ac-431d-bb37-28263f8fc82c",
   "metadata": {},
   "outputs": [
    {
     "data": {
      "text/plain": [
       "{'Fashion': [],\n",
       " 'Technology': [],\n",
       " 'Food': [],\n",
       " 'Business': [],\n",
       " 'Aviation': [],\n",
       " 'Relationships': [],\n",
       " 'Learning': [],\n",
       " 'Video Games': [],\n",
       " 'Pets': [],\n",
       " 'Cricket': [],\n",
       " 'Culture': [],\n",
       " 'After-Shows': [],\n",
       " 'Film': [],\n",
       " 'Leisure': [],\n",
       " 'Fantasy': [],\n",
       " 'Music': [],\n",
       " 'Sports': [],\n",
       " 'Parenting': [],\n",
       " 'Arts': [],\n",
       " 'Interviews': [],\n",
       " 'Mathematics': [],\n",
       " 'Sexuality': [],\n",
       " 'How To': [],\n",
       " 'True Crime': [],\n",
       " 'Religion': [],\n",
       " 'Fiction': [],\n",
       " 'Automotive': [],\n",
       " 'Games': [],\n",
       " 'Non-profit': [],\n",
       " 'Natural': [],\n",
       " 'Wrestling': [],\n",
       " 'Management': [],\n",
       " 'Careers': [],\n",
       " 'Self Improvement': [],\n",
       " 'Politics': [],\n",
       " 'Language': [],\n",
       " 'Alternative': [],\n",
       " 'Nutrition': [],\n",
       " 'Places': [],\n",
       " 'Swimming': [],\n",
       " 'Spirituality': [],\n",
       " 'Medicine': [],\n",
       " 'Travel': [],\n",
       " 'Visual': [],\n",
       " 'Basketball': [],\n",
       " 'Chemistry': [],\n",
       " 'Animals': [],\n",
       " 'Investing': [],\n",
       " 'Improv': [],\n",
       " 'Daily': [],\n",
       " 'Reviews': [],\n",
       " 'Baseball': [],\n",
       " 'Marketing': [],\n",
       " 'Earth': [],\n",
       " 'Fitness': [],\n",
       " 'Running': [],\n",
       " 'Mental': [],\n",
       " 'Tv': [],\n",
       " 'Journals': [],\n",
       " 'Government': [],\n",
       " 'Astronomy': [],\n",
       " 'Hockey': [],\n",
       " 'Science': [],\n",
       " 'Commentary': [],\n",
       " 'Documentary': [],\n",
       " 'Rugby': [],\n",
       " 'History': [],\n",
       " 'Courses': [],\n",
       " 'Stories': [],\n",
       " 'Entrepreneurship': [],\n",
       " 'Soccer': [],\n",
       " 'Society': [],\n",
       " 'Education': [],\n",
       " 'Personal': [],\n",
       " 'Tennis': [],\n",
       " 'Home': [],\n",
       " 'Nature': [],\n",
       " 'Stand-up': [],\n",
       " 'Comedy': [],\n",
       " 'Garden': [],\n",
       " 'Performing': [],\n",
       " 'Health': [],\n",
       " 'News': [],\n",
       " 'Football': [],\n",
       " 'Entertainment': [],\n",
       " 'Buddhism': [],\n",
       " 'Manga': [],\n",
       " 'Design': [],\n",
       " 'Animation': [],\n",
       " 'Social': [],\n",
       " 'Islam': [],\n",
       " 'Family': [],\n",
       " 'Physics': [],\n",
       " 'Philosophy': [],\n",
       " 'Golf': [],\n",
       " 'Hobbies': [],\n",
       " 'Beauty': [],\n",
       " 'Books': [],\n",
       " 'Hinduism': [],\n",
       " 'Life': [],\n",
       " 'Christianity': [],\n",
       " 'Crafts': [],\n",
       " 'Judaism': [],\n",
       " 'Kids': [],\n",
       " 'Wilderness': [],\n",
       " 'Drama': []}"
      ]
     },
     "execution_count": 115,
     "metadata": {},
     "output_type": "execute_result"
    }
   ],
   "source": [
    "category_df = {c:[] for c in categores}\n",
    "category_df"
   ]
  },
  {
   "cell_type": "code",
   "execution_count": 116,
   "id": "07aa4e58-4cf2-4523-80e2-8d483fca6ffa",
   "metadata": {},
   "outputs": [],
   "source": [
    "for each_data in data['categories'].str.split(','):\n",
    "    for each_key in category_df.keys():\n",
    "        if each_key in each_data:\n",
    "            category_df[each_key].append(1)\n",
    "        else:\n",
    "            category_df[each_key].append(0)\n"
   ]
  },
  {
   "cell_type": "code",
   "execution_count": 117,
   "id": "47c590e0-99d8-4749-a78d-79c5b8067e0e",
   "metadata": {},
   "outputs": [],
   "source": [
    "category_df = pd.DataFrame(category_df)"
   ]
  },
  {
   "cell_type": "code",
   "execution_count": 118,
   "id": "c4e27429-3df9-49a2-8175-8df5537cd16d",
   "metadata": {},
   "outputs": [
    {
     "data": {
      "text/html": [
       "<div>\n",
       "<style scoped>\n",
       "    .dataframe tbody tr th:only-of-type {\n",
       "        vertical-align: middle;\n",
       "    }\n",
       "\n",
       "    .dataframe tbody tr th {\n",
       "        vertical-align: top;\n",
       "    }\n",
       "\n",
       "    .dataframe thead th {\n",
       "        text-align: right;\n",
       "    }\n",
       "</style>\n",
       "<table border=\"1\" class=\"dataframe\">\n",
       "  <thead>\n",
       "    <tr style=\"text-align: right;\">\n",
       "      <th></th>\n",
       "      <th>Fashion</th>\n",
       "      <th>Technology</th>\n",
       "      <th>Food</th>\n",
       "      <th>Business</th>\n",
       "      <th>Aviation</th>\n",
       "      <th>Relationships</th>\n",
       "      <th>Learning</th>\n",
       "      <th>Video Games</th>\n",
       "      <th>Pets</th>\n",
       "      <th>Cricket</th>\n",
       "      <th>...</th>\n",
       "      <th>Beauty</th>\n",
       "      <th>Books</th>\n",
       "      <th>Hinduism</th>\n",
       "      <th>Life</th>\n",
       "      <th>Christianity</th>\n",
       "      <th>Crafts</th>\n",
       "      <th>Judaism</th>\n",
       "      <th>Kids</th>\n",
       "      <th>Wilderness</th>\n",
       "      <th>Drama</th>\n",
       "    </tr>\n",
       "  </thead>\n",
       "  <tbody>\n",
       "    <tr>\n",
       "      <th>0</th>\n",
       "      <td>0</td>\n",
       "      <td>0</td>\n",
       "      <td>0</td>\n",
       "      <td>0</td>\n",
       "      <td>0</td>\n",
       "      <td>0</td>\n",
       "      <td>0</td>\n",
       "      <td>0</td>\n",
       "      <td>0</td>\n",
       "      <td>0</td>\n",
       "      <td>...</td>\n",
       "      <td>0</td>\n",
       "      <td>0</td>\n",
       "      <td>0</td>\n",
       "      <td>0</td>\n",
       "      <td>0</td>\n",
       "      <td>0</td>\n",
       "      <td>0</td>\n",
       "      <td>0</td>\n",
       "      <td>0</td>\n",
       "      <td>0</td>\n",
       "    </tr>\n",
       "    <tr>\n",
       "      <th>1</th>\n",
       "      <td>0</td>\n",
       "      <td>0</td>\n",
       "      <td>0</td>\n",
       "      <td>0</td>\n",
       "      <td>0</td>\n",
       "      <td>0</td>\n",
       "      <td>0</td>\n",
       "      <td>0</td>\n",
       "      <td>0</td>\n",
       "      <td>0</td>\n",
       "      <td>...</td>\n",
       "      <td>0</td>\n",
       "      <td>0</td>\n",
       "      <td>0</td>\n",
       "      <td>0</td>\n",
       "      <td>0</td>\n",
       "      <td>0</td>\n",
       "      <td>0</td>\n",
       "      <td>0</td>\n",
       "      <td>0</td>\n",
       "      <td>0</td>\n",
       "    </tr>\n",
       "    <tr>\n",
       "      <th>2</th>\n",
       "      <td>0</td>\n",
       "      <td>0</td>\n",
       "      <td>0</td>\n",
       "      <td>0</td>\n",
       "      <td>0</td>\n",
       "      <td>0</td>\n",
       "      <td>0</td>\n",
       "      <td>0</td>\n",
       "      <td>0</td>\n",
       "      <td>0</td>\n",
       "      <td>...</td>\n",
       "      <td>0</td>\n",
       "      <td>0</td>\n",
       "      <td>0</td>\n",
       "      <td>0</td>\n",
       "      <td>0</td>\n",
       "      <td>0</td>\n",
       "      <td>0</td>\n",
       "      <td>0</td>\n",
       "      <td>0</td>\n",
       "      <td>0</td>\n",
       "    </tr>\n",
       "    <tr>\n",
       "      <th>3</th>\n",
       "      <td>0</td>\n",
       "      <td>0</td>\n",
       "      <td>0</td>\n",
       "      <td>0</td>\n",
       "      <td>0</td>\n",
       "      <td>0</td>\n",
       "      <td>0</td>\n",
       "      <td>0</td>\n",
       "      <td>0</td>\n",
       "      <td>0</td>\n",
       "      <td>...</td>\n",
       "      <td>0</td>\n",
       "      <td>0</td>\n",
       "      <td>0</td>\n",
       "      <td>0</td>\n",
       "      <td>0</td>\n",
       "      <td>0</td>\n",
       "      <td>0</td>\n",
       "      <td>0</td>\n",
       "      <td>0</td>\n",
       "      <td>0</td>\n",
       "    </tr>\n",
       "    <tr>\n",
       "      <th>4</th>\n",
       "      <td>0</td>\n",
       "      <td>0</td>\n",
       "      <td>0</td>\n",
       "      <td>0</td>\n",
       "      <td>0</td>\n",
       "      <td>0</td>\n",
       "      <td>0</td>\n",
       "      <td>0</td>\n",
       "      <td>0</td>\n",
       "      <td>0</td>\n",
       "      <td>...</td>\n",
       "      <td>0</td>\n",
       "      <td>0</td>\n",
       "      <td>0</td>\n",
       "      <td>0</td>\n",
       "      <td>0</td>\n",
       "      <td>0</td>\n",
       "      <td>0</td>\n",
       "      <td>0</td>\n",
       "      <td>0</td>\n",
       "      <td>0</td>\n",
       "    </tr>\n",
       "    <tr>\n",
       "      <th>...</th>\n",
       "      <td>...</td>\n",
       "      <td>...</td>\n",
       "      <td>...</td>\n",
       "      <td>...</td>\n",
       "      <td>...</td>\n",
       "      <td>...</td>\n",
       "      <td>...</td>\n",
       "      <td>...</td>\n",
       "      <td>...</td>\n",
       "      <td>...</td>\n",
       "      <td>...</td>\n",
       "      <td>...</td>\n",
       "      <td>...</td>\n",
       "      <td>...</td>\n",
       "      <td>...</td>\n",
       "      <td>...</td>\n",
       "      <td>...</td>\n",
       "      <td>...</td>\n",
       "      <td>...</td>\n",
       "      <td>...</td>\n",
       "      <td>...</td>\n",
       "    </tr>\n",
       "    <tr>\n",
       "      <th>14215</th>\n",
       "      <td>0</td>\n",
       "      <td>0</td>\n",
       "      <td>0</td>\n",
       "      <td>0</td>\n",
       "      <td>0</td>\n",
       "      <td>0</td>\n",
       "      <td>0</td>\n",
       "      <td>0</td>\n",
       "      <td>0</td>\n",
       "      <td>0</td>\n",
       "      <td>...</td>\n",
       "      <td>0</td>\n",
       "      <td>0</td>\n",
       "      <td>0</td>\n",
       "      <td>0</td>\n",
       "      <td>0</td>\n",
       "      <td>0</td>\n",
       "      <td>0</td>\n",
       "      <td>0</td>\n",
       "      <td>0</td>\n",
       "      <td>0</td>\n",
       "    </tr>\n",
       "    <tr>\n",
       "      <th>14216</th>\n",
       "      <td>0</td>\n",
       "      <td>0</td>\n",
       "      <td>0</td>\n",
       "      <td>0</td>\n",
       "      <td>0</td>\n",
       "      <td>0</td>\n",
       "      <td>0</td>\n",
       "      <td>0</td>\n",
       "      <td>0</td>\n",
       "      <td>0</td>\n",
       "      <td>...</td>\n",
       "      <td>0</td>\n",
       "      <td>0</td>\n",
       "      <td>0</td>\n",
       "      <td>0</td>\n",
       "      <td>0</td>\n",
       "      <td>0</td>\n",
       "      <td>0</td>\n",
       "      <td>0</td>\n",
       "      <td>0</td>\n",
       "      <td>0</td>\n",
       "    </tr>\n",
       "    <tr>\n",
       "      <th>14217</th>\n",
       "      <td>0</td>\n",
       "      <td>0</td>\n",
       "      <td>0</td>\n",
       "      <td>0</td>\n",
       "      <td>0</td>\n",
       "      <td>0</td>\n",
       "      <td>0</td>\n",
       "      <td>0</td>\n",
       "      <td>0</td>\n",
       "      <td>0</td>\n",
       "      <td>...</td>\n",
       "      <td>0</td>\n",
       "      <td>0</td>\n",
       "      <td>0</td>\n",
       "      <td>0</td>\n",
       "      <td>0</td>\n",
       "      <td>0</td>\n",
       "      <td>0</td>\n",
       "      <td>0</td>\n",
       "      <td>0</td>\n",
       "      <td>0</td>\n",
       "    </tr>\n",
       "    <tr>\n",
       "      <th>14218</th>\n",
       "      <td>0</td>\n",
       "      <td>0</td>\n",
       "      <td>0</td>\n",
       "      <td>0</td>\n",
       "      <td>0</td>\n",
       "      <td>0</td>\n",
       "      <td>0</td>\n",
       "      <td>0</td>\n",
       "      <td>0</td>\n",
       "      <td>0</td>\n",
       "      <td>...</td>\n",
       "      <td>0</td>\n",
       "      <td>0</td>\n",
       "      <td>0</td>\n",
       "      <td>0</td>\n",
       "      <td>0</td>\n",
       "      <td>0</td>\n",
       "      <td>0</td>\n",
       "      <td>0</td>\n",
       "      <td>0</td>\n",
       "      <td>0</td>\n",
       "    </tr>\n",
       "    <tr>\n",
       "      <th>14219</th>\n",
       "      <td>0</td>\n",
       "      <td>0</td>\n",
       "      <td>0</td>\n",
       "      <td>0</td>\n",
       "      <td>0</td>\n",
       "      <td>0</td>\n",
       "      <td>0</td>\n",
       "      <td>0</td>\n",
       "      <td>0</td>\n",
       "      <td>0</td>\n",
       "      <td>...</td>\n",
       "      <td>0</td>\n",
       "      <td>0</td>\n",
       "      <td>0</td>\n",
       "      <td>0</td>\n",
       "      <td>0</td>\n",
       "      <td>0</td>\n",
       "      <td>0</td>\n",
       "      <td>0</td>\n",
       "      <td>0</td>\n",
       "      <td>0</td>\n",
       "    </tr>\n",
       "  </tbody>\n",
       "</table>\n",
       "<p>14220 rows × 106 columns</p>\n",
       "</div>"
      ],
      "text/plain": [
       "       Fashion  Technology  Food  Business  Aviation  Relationships  Learning  \\\n",
       "0            0           0     0         0         0              0         0   \n",
       "1            0           0     0         0         0              0         0   \n",
       "2            0           0     0         0         0              0         0   \n",
       "3            0           0     0         0         0              0         0   \n",
       "4            0           0     0         0         0              0         0   \n",
       "...        ...         ...   ...       ...       ...            ...       ...   \n",
       "14215        0           0     0         0         0              0         0   \n",
       "14216        0           0     0         0         0              0         0   \n",
       "14217        0           0     0         0         0              0         0   \n",
       "14218        0           0     0         0         0              0         0   \n",
       "14219        0           0     0         0         0              0         0   \n",
       "\n",
       "       Video Games  Pets  Cricket  ...  Beauty  Books  Hinduism  Life  \\\n",
       "0                0     0        0  ...       0      0         0     0   \n",
       "1                0     0        0  ...       0      0         0     0   \n",
       "2                0     0        0  ...       0      0         0     0   \n",
       "3                0     0        0  ...       0      0         0     0   \n",
       "4                0     0        0  ...       0      0         0     0   \n",
       "...            ...   ...      ...  ...     ...    ...       ...   ...   \n",
       "14215            0     0        0  ...       0      0         0     0   \n",
       "14216            0     0        0  ...       0      0         0     0   \n",
       "14217            0     0        0  ...       0      0         0     0   \n",
       "14218            0     0        0  ...       0      0         0     0   \n",
       "14219            0     0        0  ...       0      0         0     0   \n",
       "\n",
       "       Christianity  Crafts  Judaism  Kids  Wilderness  Drama  \n",
       "0                 0       0        0     0           0      0  \n",
       "1                 0       0        0     0           0      0  \n",
       "2                 0       0        0     0           0      0  \n",
       "3                 0       0        0     0           0      0  \n",
       "4                 0       0        0     0           0      0  \n",
       "...             ...     ...      ...   ...         ...    ...  \n",
       "14215             0       0        0     0           0      0  \n",
       "14216             0       0        0     0           0      0  \n",
       "14217             0       0        0     0           0      0  \n",
       "14218             0       0        0     0           0      0  \n",
       "14219             0       0        0     0           0      0  \n",
       "\n",
       "[14220 rows x 106 columns]"
      ]
     },
     "execution_count": 118,
     "metadata": {},
     "output_type": "execute_result"
    }
   ],
   "source": [
    "category_df"
   ]
  },
  {
   "cell_type": "code",
   "execution_count": 119,
   "id": "c5b5ffff-5f8f-4380-a9a3-dee15cbaa3d8",
   "metadata": {},
   "outputs": [
    {
     "data": {
      "text/plain": [
       "Fashion        165\n",
       "Technology     565\n",
       "Food           231\n",
       "Business      2486\n",
       "Aviation        12\n",
       "              ... \n",
       "Crafts          11\n",
       "Judaism         49\n",
       "Kids           770\n",
       "Wilderness     105\n",
       "Drama          116\n",
       "Length: 106, dtype: int64"
      ]
     },
     "execution_count": 119,
     "metadata": {},
     "output_type": "execute_result"
    }
   ],
   "source": [
    "category_df.sum()"
   ]
  },
  {
   "cell_type": "code",
   "execution_count": 120,
   "id": "5130e4bd-2fd2-4623-b388-d1ff0f97cb9f",
   "metadata": {},
   "outputs": [
    {
     "data": {
      "text/plain": [
       "Swimming        2\n",
       "Hinduism        4\n",
       "Cricket         5\n",
       "Crafts         11\n",
       "Aviation       12\n",
       "             ... \n",
       "Health       2409\n",
       "Business     2486\n",
       "Education    2971\n",
       "Culture      4028\n",
       "Society      4084\n",
       "Length: 106, dtype: int64"
      ]
     },
     "execution_count": 120,
     "metadata": {},
     "output_type": "execute_result"
    }
   ],
   "source": [
    "category_df.sum().sort_values()"
   ]
  },
  {
   "cell_type": "code",
   "execution_count": 121,
   "id": "5fd2a29e-9e16-4a19-b63c-74e16264f478",
   "metadata": {},
   "outputs": [
    {
     "data": {
      "text/plain": [
       "Swimming        2\n",
       "Hinduism        4\n",
       "Cricket         5\n",
       "Crafts         11\n",
       "Aviation       12\n",
       "Mathematics    13\n",
       "Rugby          15\n",
       "Tennis         16\n",
       "Golf           17\n",
       "Chemistry      18\n",
       "Running        30\n",
       "Physics        35\n",
       "Fantasy        39\n",
       "Baseball       41\n",
       "Islam          42\n",
       "Astronomy      43\n",
       "Buddhism       48\n",
       "Judaism        49\n",
       "Garden         54\n",
       "Hockey         54\n",
       "dtype: int64"
      ]
     },
     "execution_count": 121,
     "metadata": {},
     "output_type": "execute_result"
    }
   ],
   "source": [
    "category_df.sum().sort_values().head(20)"
   ]
  },
  {
   "cell_type": "code",
   "execution_count": 122,
   "id": "680a4388-c6c6-4da0-98a9-cc97c223d616",
   "metadata": {},
   "outputs": [
    {
     "data": {
      "text/plain": [
       "Music                637\n",
       "Personal             671\n",
       "Interviews           672\n",
       "Mental               746\n",
       "Family               746\n",
       "Entrepreneurship     747\n",
       "Kids                 770\n",
       "History              807\n",
       "Sports              1092\n",
       "Leisure             1119\n",
       "Spirituality        1238\n",
       "Religion            1255\n",
       "Self Improvement    1277\n",
       "Film                1332\n",
       "Tv                  1341\n",
       "Science             1430\n",
       "Comedy              1811\n",
       "Arts                2077\n",
       "Fitness             2299\n",
       "News                2367\n",
       "Health              2409\n",
       "Business            2486\n",
       "Education           2971\n",
       "Culture             4028\n",
       "Society             4084\n",
       "dtype: int64"
      ]
     },
     "execution_count": 122,
     "metadata": {},
     "output_type": "execute_result"
    }
   ],
   "source": [
    "category_df.sum().sort_values().tail(25)"
   ]
  },
  {
   "cell_type": "markdown",
   "id": "2bddfa53-151a-4fe8-8eb9-d0aee8567c42",
   "metadata": {},
   "source": [
    "### let's create a data frame of 'description' column:"
   ]
  },
  {
   "cell_type": "code",
   "execution_count": 123,
   "id": "4edbfe94-3246-47c9-8cf0-72a5fbdfa952",
   "metadata": {},
   "outputs": [
    {
     "data": {
      "text/plain": [
       "0        Huberman Lab discusses neuroscience: how our b...\n",
       "1        Current and classic episodes, featuring compel...\n",
       "2        SmartLess with Jason Bateman, Sean Hayes, & Wi...\n",
       "3        This is what the news should sound like. The b...\n",
       "4        If you've ever wanted to know about champagne,...\n",
       "                               ...                        \n",
       "14215    The Disability Download is brought to you by p...\n",
       "14216    Dialogos Radio features weekly, in-depth discu...\n",
       "14217    Politics at the intersection of extremists, pr...\n",
       "14218    Huberman Lab discusses neuroscience: how our b...\n",
       "14219    Current and classic episodes, featuring compel...\n",
       "Name: description, Length: 14220, dtype: object"
      ]
     },
     "execution_count": 123,
     "metadata": {},
     "output_type": "execute_result"
    }
   ],
   "source": [
    "data['description']"
   ]
  },
  {
   "cell_type": "code",
   "execution_count": 124,
   "id": "a1ebd41d-dbb3-4c84-a851-1f56a4f86fdc",
   "metadata": {},
   "outputs": [],
   "source": [
    "from sklearn.feature_extraction.text import TfidfVectorizer"
   ]
  },
  {
   "cell_type": "code",
   "execution_count": 125,
   "id": "6f005517-562d-444d-9cb9-828b14ddc41f",
   "metadata": {},
   "outputs": [],
   "source": [
    "vector = TfidfVectorizer()\n",
    "desc_embed = vector.fit_transform(data['description'])\n",
    "desc_embed = desc_embed.toarray()"
   ]
  },
  {
   "cell_type": "code",
   "execution_count": 126,
   "id": "a8d45123-967f-4d36-9578-699a84684747",
   "metadata": {},
   "outputs": [
    {
     "data": {
      "text/plain": [
       "array([[0., 0., 0., ..., 0., 0., 0.],\n",
       "       [0., 0., 0., ..., 0., 0., 0.],\n",
       "       [0., 0., 0., ..., 0., 0., 0.],\n",
       "       ...,\n",
       "       [0., 0., 0., ..., 0., 0., 0.],\n",
       "       [0., 0., 0., ..., 0., 0., 0.],\n",
       "       [0., 0., 0., ..., 0., 0., 0.]])"
      ]
     },
     "execution_count": 126,
     "metadata": {},
     "output_type": "execute_result"
    }
   ],
   "source": [
    "desc_embed"
   ]
  },
  {
   "cell_type": "code",
   "execution_count": 127,
   "id": "3a315ee2-547c-4a28-8f3e-6c98ba798a8a",
   "metadata": {},
   "outputs": [
    {
     "data": {
      "text/plain": [
       "(14220, 38575)"
      ]
     },
     "execution_count": 127,
     "metadata": {},
     "output_type": "execute_result"
    }
   ],
   "source": [
    "desc_embed.shape"
   ]
  },
  {
   "cell_type": "code",
   "execution_count": 128,
   "id": "ae42c8ba-7863-4738-9308-a2069235c6a6",
   "metadata": {},
   "outputs": [],
   "source": [
    "X = np.concatenate([desc_embed, category_df.to_numpy()], axis = 1)"
   ]
  },
  {
   "cell_type": "code",
   "execution_count": 129,
   "id": "8c37d75d-e247-4e97-858b-73e93b003305",
   "metadata": {},
   "outputs": [
    {
     "data": {
      "text/plain": [
       "(14220, 38681)"
      ]
     },
     "execution_count": 129,
     "metadata": {},
     "output_type": "execute_result"
    }
   ],
   "source": [
    "X.shape"
   ]
  },
  {
   "cell_type": "markdown",
   "id": "f1e59788-f2c7-45ba-8209-248d9caad264",
   "metadata": {},
   "source": [
    "# OoooPs!\n",
    "### there is so many features in X. let's use PCA to reduce the number of features:"
   ]
  },
  {
   "cell_type": "code",
   "execution_count": 130,
   "id": "18a58853-022c-4944-8323-2080065b5dde",
   "metadata": {},
   "outputs": [],
   "source": [
    "from sklearn.decomposition import PCA"
   ]
  },
  {
   "cell_type": "code",
   "execution_count": 131,
   "id": "a35f9402-9868-4268-9b5d-347b715f78b5",
   "metadata": {},
   "outputs": [
    {
     "data": {
      "text/plain": [
       "array([0.09848831, 0.07806783])"
      ]
     },
     "execution_count": 131,
     "metadata": {},
     "output_type": "execute_result"
    }
   ],
   "source": [
    "pca = PCA(n_components= 2)\n",
    "X_2d = pca.fit_transform(X)\n",
    "pca.explained_variance_ratio_"
   ]
  },
  {
   "cell_type": "code",
   "execution_count": 132,
   "id": "cc91cea4-3cc9-4fe4-a4ac-b826dcbec1a8",
   "metadata": {},
   "outputs": [
    {
     "data": {
      "text/plain": [
       "0.17655613768733064"
      ]
     },
     "execution_count": 132,
     "metadata": {},
     "output_type": "execute_result"
    }
   ],
   "source": [
    "np.sum(pca.explained_variance_ratio_)"
   ]
  },
  {
   "cell_type": "code",
   "execution_count": 133,
   "id": "5c89bd37-07f4-4fa9-9966-189398a5a8bf",
   "metadata": {},
   "outputs": [
    {
     "data": {
      "image/png": "[encoded data removed]",
      "text/plain": [
       "<Figure size 300x300 with 1 Axes>"
      ]
     },
     "metadata": {},
     "output_type": "display_data"
    }
   ],
   "source": [
    "plt.figure(figsize=(3,3))\n",
    "plt.scatter(X_2d[:,0],X_2d[:,1], alpha= 0.2)\n",
    "plt.xlabel('PC 1')\n",
    "plt.ylabel('PC 2')\n",
    "plt.show()"
   ]
  },
  {
   "cell_type": "code",
   "execution_count": 134,
   "id": "143f6eef-b69e-45e8-a4af-2e58fa4c939a",
   "metadata": {},
   "outputs": [
    {
     "name": "stdout",
     "output_type": "stream",
     "text": [
      "[0.09848831 0.07806783 0.05155134]\n",
      "0.22810747299753464\n"
     ]
    }
   ],
   "source": [
    "pca = PCA(n_components= 3)\n",
    "X_3d = pca.fit_transform(X)\n",
    "print(pca.explained_variance_ratio_)\n",
    "print(np.sum(pca.explained_variance_ratio_))"
   ]
  },
  {
   "cell_type": "code",
   "execution_count": 135,
   "id": "2ca0a2a6-fc1c-4aac-bf5b-e00f9ad493fa",
   "metadata": {},
   "outputs": [
    {
     "data": {
      "image/png": "[encoded data removed]",
      "text/plain": [
       "<Figure size 640x480 with 1 Axes>"
      ]
     },
     "metadata": {},
     "output_type": "display_data"
    }
   ],
   "source": [
    "fig = plt.figure()\n",
    "ax = fig.add_subplot(projection='3d')\n",
    "ax.set_xlabel('PC1')\n",
    "ax.set_ylabel('PC2')\n",
    "ax.set_zlabel('PC3')\n",
    "ax.scatter3D(X_3d[:,0],X_3d[:,1],X_3d[:,2],alpha=0.2, color = \"green\")\n",
    "plt.show()"
   ]
  },
  {
   "cell_type": "markdown",
   "id": "f4840dab-1e71-410c-b7bd-9ec7dfde7da1",
   "metadata": {},
   "source": [
    "### let's find better suitable number of component in PCA with explained_variance_ratio_:"
   ]
  },
  {
   "cell_type": "code",
   "execution_count": 136,
   "id": "47355766-5388-40d1-84ba-a0cc01d169da",
   "metadata": {},
   "outputs": [
    {
     "data": {
      "text/plain": [
       "0.5896872765177478"
      ]
     },
     "execution_count": 136,
     "metadata": {},
     "output_type": "execute_result"
    }
   ],
   "source": [
    "pca20 = PCA(n_components= 20)\n",
    "X_reduction_20 = pca20.fit_transform(X)\n",
    "np.sum(pca20.explained_variance_ratio_)"
   ]
  },
  {
   "cell_type": "code",
   "execution_count": 137,
   "id": "1fdeb016-9ab0-4059-8dfd-d7a7d646a6ff",
   "metadata": {},
   "outputs": [
    {
     "data": {
      "text/plain": [
       "0.7979803100403815"
      ]
     },
     "execution_count": 137,
     "metadata": {},
     "output_type": "execute_result"
    }
   ],
   "source": [
    "pca100 = PCA(n_components= 100)\n",
    "X_reduction_100 = pca100.fit_transform(X)\n",
    "np.sum(pca100.explained_variance_ratio_)"
   ]
  },
  {
   "cell_type": "code",
   "execution_count": 138,
   "id": "1d869cd4-f7d7-4dca-a3fe-4b3e95e311a2",
   "metadata": {},
   "outputs": [
    {
     "data": {
      "text/plain": [
       "0.8203540055270998"
      ]
     },
     "execution_count": 138,
     "metadata": {},
     "output_type": "execute_result"
    }
   ],
   "source": [
    "pca200 = PCA(n_components= 200)\n",
    "X_reduction_200 = pca200.fit_transform(X)\n",
    "np.sum(pca200.explained_variance_ratio_)"
   ]
  },
  {
   "cell_type": "code",
   "execution_count": 139,
   "id": "c52c6ede-6a91-487f-b6d2-0983754bd22c",
   "metadata": {},
   "outputs": [
    {
     "data": {
      "text/plain": [
       "0.8335929541726309"
      ]
     },
     "execution_count": 139,
     "metadata": {},
     "output_type": "execute_result"
    }
   ],
   "source": [
    "pca300 = PCA(n_components= 300)\n",
    "X_reduction_300 = pca300.fit_transform(X)\n",
    "np.sum(pca300.explained_variance_ratio_)"
   ]
  },
  {
   "cell_type": "markdown",
   "id": "e5ee7647-d484-4669-8663-e6e89a61d4f5",
   "metadata": {},
   "source": [
    "#### So, it seems 200 component is enough.\n",
    "# Let's go clustring:\n",
    "## 1.K-means:"
   ]
  },
  {
   "cell_type": "code",
   "execution_count": 140,
   "id": "b60cc951-70d5-4907-a5fd-6749fe21af29",
   "metadata": {},
   "outputs": [],
   "source": [
    "from sklearn.cluster import KMeans"
   ]
  },
  {
   "cell_type": "code",
   "execution_count": 141,
   "id": "3fe268d0-a5e2-4012-9303-c5cf09ad4024",
   "metadata": {},
   "outputs": [],
   "source": [
    "cls = KMeans(n_clusters= 2)\n",
    "y_pred = cls.fit_predict(X_reduction_200)"
   ]
  },
  {
   "cell_type": "code",
   "execution_count": 142,
   "id": "41a46740-4997-4db0-8023-b6292dd06bb6",
   "metadata": {},
   "outputs": [
    {
     "data": {
      "text/plain": [
       "array([1, 0, 1, ..., 0, 1, 0])"
      ]
     },
     "execution_count": 142,
     "metadata": {},
     "output_type": "execute_result"
    }
   ],
   "source": [
    "y_pred"
   ]
  },
  {
   "cell_type": "code",
   "execution_count": 143,
   "id": "31e7e566-6b87-4a4e-99ea-15b3c7b038b3",
   "metadata": {},
   "outputs": [
    {
     "data": {
      "text/html": [
       "<div>\n",
       "<style scoped>\n",
       "    .dataframe tbody tr th:only-of-type {\n",
       "        vertical-align: middle;\n",
       "    }\n",
       "\n",
       "    .dataframe tbody tr th {\n",
       "        vertical-align: top;\n",
       "    }\n",
       "\n",
       "    .dataframe thead th {\n",
       "        text-align: right;\n",
       "    }\n",
       "</style>\n",
       "<table border=\"1\" class=\"dataframe\">\n",
       "  <thead>\n",
       "    <tr style=\"text-align: right;\">\n",
       "      <th></th>\n",
       "      <th>podcast_name</th>\n",
       "      <th>podtail_link</th>\n",
       "      <th>itunes_id</th>\n",
       "      <th>podcastindex_id</th>\n",
       "      <th>description</th>\n",
       "      <th>rss_link</th>\n",
       "      <th>language</th>\n",
       "      <th>categories</th>\n",
       "      <th>number_of_podcasts</th>\n",
       "      <th>rating</th>\n",
       "    </tr>\n",
       "  </thead>\n",
       "  <tbody>\n",
       "    <tr>\n",
       "      <th>0</th>\n",
       "      <td>Huberman Lab</td>\n",
       "      <td>https://podtail.com/podcast/huberman-lab/</td>\n",
       "      <td>1545953110</td>\n",
       "      <td>1365758</td>\n",
       "      <td>Huberman Lab discusses neuroscience: how our b...</td>\n",
       "      <td>https://hubermanlab.libsyn.com/rss</td>\n",
       "      <td>en</td>\n",
       "      <td>Health,Fitness,Science</td>\n",
       "      <td>173.0</td>\n",
       "      <td>4.9</td>\n",
       "    </tr>\n",
       "    <tr>\n",
       "      <th>2</th>\n",
       "      <td>SmartLess</td>\n",
       "      <td>https://podtail.com/podcast/smartless/</td>\n",
       "      <td>1521578868</td>\n",
       "      <td>150970</td>\n",
       "      <td>SmartLess with Jason Bateman, Sean Hayes, &amp; Wi...</td>\n",
       "      <td>https://feeds.simplecast.com/pvzhyDQn</td>\n",
       "      <td>en</td>\n",
       "      <td>Comedy,Education,Society,Culture</td>\n",
       "      <td>184.0</td>\n",
       "      <td>4.7</td>\n",
       "    </tr>\n",
       "    <tr>\n",
       "      <th>4</th>\n",
       "      <td>Stuff You Should Know</td>\n",
       "      <td>https://podtail.com/podcast/stuff-you-should-k...</td>\n",
       "      <td>278981407</td>\n",
       "      <td>827592</td>\n",
       "      <td>If you've ever wanted to know about champagne,...</td>\n",
       "      <td>https://feeds.megaphone.fm/stuffyoushouldknow</td>\n",
       "      <td>en-US</td>\n",
       "      <td>Society,Culture</td>\n",
       "      <td>2218.0</td>\n",
       "      <td>4.5</td>\n",
       "    </tr>\n",
       "    <tr>\n",
       "      <th>5</th>\n",
       "      <td>Wait Wait... Don't Tell Me!</td>\n",
       "      <td>https://podtail.com/podcast/npr-programs-wait-...</td>\n",
       "      <td>121493804</td>\n",
       "      <td>55813</td>\n",
       "      <td>NPR's weekly news quiz hosted by Peter Sagal. ...</td>\n",
       "      <td>https://feeds.npr.org/344098539/podcast.xml</td>\n",
       "      <td>en</td>\n",
       "      <td>Comedy,Leisure,Games</td>\n",
       "      <td>300.0</td>\n",
       "      <td>4.6</td>\n",
       "    </tr>\n",
       "    <tr>\n",
       "      <th>7</th>\n",
       "      <td>Dying Rose</td>\n",
       "      <td>https://podtail.com/podcast/dying-rose/</td>\n",
       "      <td>1700801267</td>\n",
       "      <td>6561093</td>\n",
       "      <td>How a small team of reporters from a city best...</td>\n",
       "      <td>https://www.omnycontent.com/d/playlist/2fb3740...</td>\n",
       "      <td>en-US</td>\n",
       "      <td>True Crime</td>\n",
       "      <td>8.0</td>\n",
       "      <td>3.8</td>\n",
       "    </tr>\n",
       "    <tr>\n",
       "      <th>...</th>\n",
       "      <td>...</td>\n",
       "      <td>...</td>\n",
       "      <td>...</td>\n",
       "      <td>...</td>\n",
       "      <td>...</td>\n",
       "      <td>...</td>\n",
       "      <td>...</td>\n",
       "      <td>...</td>\n",
       "      <td>...</td>\n",
       "      <td>...</td>\n",
       "    </tr>\n",
       "    <tr>\n",
       "      <th>14211</th>\n",
       "      <td>Chinese Explained</td>\n",
       "      <td>https://podtail.com/podcast/chinese-explained/</td>\n",
       "      <td>1500549535</td>\n",
       "      <td>113511</td>\n",
       "      <td>Welcome to Chinese Explained! I am Kate. This ...</td>\n",
       "      <td>https://anchor.fm/s/26c27344/podcast/rss</td>\n",
       "      <td>en</td>\n",
       "      <td>Education,Language,Learning</td>\n",
       "      <td>27.0</td>\n",
       "      <td>5.0</td>\n",
       "    </tr>\n",
       "    <tr>\n",
       "      <th>14212</th>\n",
       "      <td>HIM.</td>\n",
       "      <td>https://podtail.com/podcast/him-1/</td>\n",
       "      <td>1289031818</td>\n",
       "      <td>580821</td>\n",
       "      <td>A Weekly Podcast hosted by four black gay men ...</td>\n",
       "      <td>https://feeds.simplecast.com/MyoMk0LV</td>\n",
       "      <td>en</td>\n",
       "      <td>Society,Culture,Relationships,Comedy,Leisure</td>\n",
       "      <td>166.0</td>\n",
       "      <td>4.8</td>\n",
       "    </tr>\n",
       "    <tr>\n",
       "      <th>14213</th>\n",
       "      <td>The Smellcast</td>\n",
       "      <td>https://podtail.com/podcast/the-smellcast/</td>\n",
       "      <td>500846681</td>\n",
       "      <td>1079273</td>\n",
       "      <td>Produced by Toppie Smellie, a fifty two year o...</td>\n",
       "      <td>https://smellcast.libsyn.com/rss</td>\n",
       "      <td>en</td>\n",
       "      <td>Comedy,Improv,Society,Culture,Personal,Journals</td>\n",
       "      <td>100.0</td>\n",
       "      <td>5.0</td>\n",
       "    </tr>\n",
       "    <tr>\n",
       "      <th>14214</th>\n",
       "      <td>Social Animals</td>\n",
       "      <td>https://podtail.com/podcast/social-animals/</td>\n",
       "      <td>1552637227</td>\n",
       "      <td>2405203</td>\n",
       "      <td>This show is about the stories that define our...</td>\n",
       "      <td>https://socialanimalspodcast.libsyn.com/rss</td>\n",
       "      <td>en</td>\n",
       "      <td>Society,Culture,Relationships,Comedy</td>\n",
       "      <td>79.0</td>\n",
       "      <td>4.6</td>\n",
       "    </tr>\n",
       "    <tr>\n",
       "      <th>14218</th>\n",
       "      <td>Huberman Lab</td>\n",
       "      <td>https://podtail.com/podcast/huberman-lab/</td>\n",
       "      <td>1545953110</td>\n",
       "      <td>1365758</td>\n",
       "      <td>Huberman Lab discusses neuroscience: how our b...</td>\n",
       "      <td>https://hubermanlab.libsyn.com/rss</td>\n",
       "      <td>en</td>\n",
       "      <td>Health,Fitness,Science</td>\n",
       "      <td>173.0</td>\n",
       "      <td>4.9</td>\n",
       "    </tr>\n",
       "  </tbody>\n",
       "</table>\n",
       "<p>11855 rows × 10 columns</p>\n",
       "</div>"
      ],
      "text/plain": [
       "                      podcast_name  \\\n",
       "0                     Huberman Lab   \n",
       "2                        SmartLess   \n",
       "4            Stuff You Should Know   \n",
       "5      Wait Wait... Don't Tell Me!   \n",
       "7                       Dying Rose   \n",
       "...                            ...   \n",
       "14211            Chinese Explained   \n",
       "14212                         HIM.   \n",
       "14213                The Smellcast   \n",
       "14214               Social Animals   \n",
       "14218                 Huberman Lab   \n",
       "\n",
       "                                            podtail_link   itunes_id  \\\n",
       "0              https://podtail.com/podcast/huberman-lab/  1545953110   \n",
       "2                 https://podtail.com/podcast/smartless/  1521578868   \n",
       "4      https://podtail.com/podcast/stuff-you-should-k...   278981407   \n",
       "5      https://podtail.com/podcast/npr-programs-wait-...   121493804   \n",
       "7                https://podtail.com/podcast/dying-rose/  1700801267   \n",
       "...                                                  ...         ...   \n",
       "14211     https://podtail.com/podcast/chinese-explained/  1500549535   \n",
       "14212                 https://podtail.com/podcast/him-1/  1289031818   \n",
       "14213         https://podtail.com/podcast/the-smellcast/   500846681   \n",
       "14214        https://podtail.com/podcast/social-animals/  1552637227   \n",
       "14218          https://podtail.com/podcast/huberman-lab/  1545953110   \n",
       "\n",
       "       podcastindex_id                                        description  \\\n",
       "0              1365758  Huberman Lab discusses neuroscience: how our b...   \n",
       "2               150970  SmartLess with Jason Bateman, Sean Hayes, & Wi...   \n",
       "4               827592  If you've ever wanted to know about champagne,...   \n",
       "5                55813  NPR's weekly news quiz hosted by Peter Sagal. ...   \n",
       "7              6561093  How a small team of reporters from a city best...   \n",
       "...                ...                                                ...   \n",
       "14211           113511  Welcome to Chinese Explained! I am Kate. This ...   \n",
       "14212           580821  A Weekly Podcast hosted by four black gay men ...   \n",
       "14213          1079273  Produced by Toppie Smellie, a fifty two year o...   \n",
       "14214          2405203  This show is about the stories that define our...   \n",
       "14218          1365758  Huberman Lab discusses neuroscience: how our b...   \n",
       "\n",
       "                                                rss_link language  \\\n",
       "0                     https://hubermanlab.libsyn.com/rss       en   \n",
       "2                  https://feeds.simplecast.com/pvzhyDQn       en   \n",
       "4          https://feeds.megaphone.fm/stuffyoushouldknow    en-US   \n",
       "5            https://feeds.npr.org/344098539/podcast.xml       en   \n",
       "7      https://www.omnycontent.com/d/playlist/2fb3740...    en-US   \n",
       "...                                                  ...      ...   \n",
       "14211           https://anchor.fm/s/26c27344/podcast/rss       en   \n",
       "14212              https://feeds.simplecast.com/MyoMk0LV       en   \n",
       "14213                   https://smellcast.libsyn.com/rss       en   \n",
       "14214        https://socialanimalspodcast.libsyn.com/rss       en   \n",
       "14218                 https://hubermanlab.libsyn.com/rss       en   \n",
       "\n",
       "                                            categories  number_of_podcasts  \\\n",
       "0                               Health,Fitness,Science               173.0   \n",
       "2                     Comedy,Education,Society,Culture               184.0   \n",
       "4                                      Society,Culture              2218.0   \n",
       "5                                 Comedy,Leisure,Games               300.0   \n",
       "7                                           True Crime                 8.0   \n",
       "...                                                ...                 ...   \n",
       "14211                      Education,Language,Learning                27.0   \n",
       "14212     Society,Culture,Relationships,Comedy,Leisure               166.0   \n",
       "14213  Comedy,Improv,Society,Culture,Personal,Journals               100.0   \n",
       "14214             Society,Culture,Relationships,Comedy                79.0   \n",
       "14218                           Health,Fitness,Science               173.0   \n",
       "\n",
       "       rating  \n",
       "0         4.9  \n",
       "2         4.7  \n",
       "4         4.5  \n",
       "5         4.6  \n",
       "7         3.8  \n",
       "...       ...  \n",
       "14211     5.0  \n",
       "14212     4.8  \n",
       "14213     5.0  \n",
       "14214     4.6  \n",
       "14218     4.9  \n",
       "\n",
       "[11855 rows x 10 columns]"
      ]
     },
     "execution_count": 143,
     "metadata": {},
     "output_type": "execute_result"
    }
   ],
   "source": [
    "data.iloc[y_pred==1,:]"
   ]
  },
  {
   "cell_type": "code",
   "execution_count": 144,
   "id": "12f9a2e7-b5ed-4998-ae5f-b9cb845ed14b",
   "metadata": {},
   "outputs": [
    {
     "data": {
      "text/plain": [
       "50612.209195183925"
      ]
     },
     "execution_count": 144,
     "metadata": {},
     "output_type": "execute_result"
    }
   ],
   "source": [
    "cls.inertia_"
   ]
  },
  {
   "cell_type": "code",
   "execution_count": 145,
   "id": "22ae7b79-cb3c-49ae-837e-5768e6b3642c",
   "metadata": {},
   "outputs": [
    {
     "data": {
      "text/plain": [
       "43231.78587848383"
      ]
     },
     "execution_count": 145,
     "metadata": {},
     "output_type": "execute_result"
    }
   ],
   "source": [
    "cls = KMeans(n_clusters= 3)\n",
    "y_pred = cls.fit_predict(X_reduction_200)\n",
    "cls.inertia_"
   ]
  },
  {
   "cell_type": "markdown",
   "id": "22c3d3ff-cdf6-464b-b9ac-f01e11d22430",
   "metadata": {},
   "source": [
    "#### find better numbet of clusters in range(2,51):"
   ]
  },
  {
   "cell_type": "code",
   "execution_count": 146,
   "id": "d630e98a-f400-45da-b826-33552283bdd7",
   "metadata": {},
   "outputs": [],
   "source": [
    "inertia =[]\n",
    "n_cluster = []\n",
    "\n",
    "for k in range(2,51):\n",
    "    cls = KMeans(n_clusters= k)\n",
    "    cls.fit_predict(X_reduction_200)\n",
    "    inertia.append(cls.inertia_)\n",
    "    n_cluster.append(k)"
   ]
  },
  {
   "cell_type": "code",
   "execution_count": 147,
   "id": "884d71e1-04a1-47e9-bf9f-d7db1df3b024",
   "metadata": {},
   "outputs": [
    {
     "data": {
      "image/png": "[encoded data removed]",
      "text/plain": [
       "<Figure size 800x300 with 1 Axes>"
      ]
     },
     "metadata": {},
     "output_type": "display_data"
    }
   ],
   "source": [
    "plt.figure(figsize=(8,3))\n",
    "plt.plot (n_cluster , inertia)\n",
    "plt.xlabel('# of clusters')\n",
    "plt.ylabel('Inertia')\n",
    "plt.show()"
   ]
  },
  {
   "cell_type": "markdown",
   "id": "d8228633-6c54-4838-abfc-8a3b83ef2eac",
   "metadata": {},
   "source": [
    "#### range of k is not enough! try range(2,101):"
   ]
  },
  {
   "cell_type": "code",
   "execution_count": 148,
   "id": "0507ffb6-85bb-46bd-962f-23687c492ce8",
   "metadata": {},
   "outputs": [],
   "source": [
    "inertia =[]\n",
    "n_cluster = []\n",
    "\n",
    "for k in range(2,101):\n",
    "    cls = KMeans(n_clusters= k)\n",
    "    cls.fit_predict(X_reduction_200)\n",
    "    inertia.append(cls.inertia_)\n",
    "    n_cluster.append(k)"
   ]
  },
  {
   "cell_type": "code",
   "execution_count": 149,
   "id": "7007c465-1122-4992-945e-14f3efd739ae",
   "metadata": {},
   "outputs": [
    {
     "data": {
      "image/png": "[encoded data removed]",
      "text/plain": [
       "<Figure size 800x300 with 1 Axes>"
      ]
     },
     "metadata": {},
     "output_type": "display_data"
    }
   ],
   "source": [
    "plt.figure(figsize=(8,3))\n",
    "plt.plot (n_cluster , inertia)\n",
    "plt.xlabel('# of clusters')\n",
    "plt.ylabel('Inertia')\n",
    "plt.show()"
   ]
  },
  {
   "cell_type": "code",
   "execution_count": 150,
   "id": "ad14d710-1b0a-41c3-8ac9-15a40b24acf4",
   "metadata": {},
   "outputs": [],
   "source": [
    "inertia =[]\n",
    "n_cluster = []\n",
    "\n",
    "for k in range(2,201):\n",
    "    cls = KMeans(n_clusters= k)\n",
    "    cls.fit_predict(X_reduction_200)\n",
    "    inertia.append(cls.inertia_)\n",
    "    n_cluster.append(k)"
   ]
  },
  {
   "cell_type": "code",
   "execution_count": 151,
   "id": "4d5a87c9-7729-4d38-9d7f-a848dfa7e4ad",
   "metadata": {},
   "outputs": [
    {
     "data": {
      "image/png": "[encoded data removed]",
      "text/plain": [
       "<Figure size 800x300 with 1 Axes>"
      ]
     },
     "metadata": {},
     "output_type": "display_data"
    }
   ],
   "source": [
    "plt.figure(figsize=(8,3))\n",
    "plt.plot (n_cluster , inertia)\n",
    "plt.xlabel('# of clusters')\n",
    "plt.ylabel('Inertia')\n",
    "plt.show()"
   ]
  },
  {
   "cell_type": "markdown",
   "id": "394ae7c4-c230-401b-8a74-edc0aa28ab46",
   "metadata": {},
   "source": [
    "#### Let's try another metric,Calinski score, beside inertia:"
   ]
  },
  {
   "cell_type": "code",
   "execution_count": 152,
   "id": "3bc59193-7b04-46c8-8b7d-b022d10affda",
   "metadata": {},
   "outputs": [],
   "source": [
    "from sklearn.metrics import calinski_harabasz_score"
   ]
  },
  {
   "cell_type": "code",
   "execution_count": 153,
   "id": "621179af-975c-44ad-8d84-9b72798c6b93",
   "metadata": {},
   "outputs": [],
   "source": [
    "calinski = []\n",
    "inertia =[]\n",
    "n_cluster = []\n",
    "\n",
    "for k in range(2,201):\n",
    "    cls = KMeans(n_clusters= k)\n",
    "    y_pred = cls.fit_predict(X_reduction_200)\n",
    "    calinski.append(calinski_harabasz_score(X=X_reduction_200 , labels= y_pred))\n",
    "    inertia.append(cls.inertia_)\n",
    "    n_cluster.append(k)"
   ]
  },
  {
   "cell_type": "code",
   "execution_count": 154,
   "id": "aeb78b3b-8c65-47a8-89cf-69d2e054cd5b",
   "metadata": {},
   "outputs": [
    {
     "data": {
      "image/png": "[encoded data removed]",
      "text/plain": [
       "<Figure size 800x700 with 2 Axes>"
      ]
     },
     "metadata": {},
     "output_type": "display_data"
    }
   ],
   "source": [
    "#plot Calinski score and inertia:\n",
    "plt.figure(figsize=(8,7))\n",
    "plt.subplot(211)\n",
    "plt.plot(n_cluster,inertia)\n",
    "plt.xlabel('# of clusters')\n",
    "plt.ylabel('Inertia')\n",
    "plt.subplot(212)\n",
    "plt.plot(n_cluster,calinski)\n",
    "plt.xlabel('# of clusters')\n",
    "plt.ylabel('Calinski')\n",
    "plt.show()"
   ]
  },
  {
   "cell_type": "markdown",
   "id": "09acd7ed-bab8-492b-a99b-4ea7810f94fe",
   "metadata": {},
   "source": [
    "#### look for peak  of Calinski:"
   ]
  },
  {
   "cell_type": "code",
   "execution_count": 155,
   "id": "02f7b804-7489-4bbb-bf7a-b222e837d9e8",
   "metadata": {},
   "outputs": [
    {
     "data": {
      "image/png": "[encoded data removed]",
      "text/plain": [
       "<Figure size 800x700 with 2 Axes>"
      ]
     },
     "metadata": {},
     "output_type": "display_data"
    }
   ],
   "source": [
    "plt.figure(figsize=(8,7))\n",
    "plt.subplot(211)\n",
    "plt.plot(n_cluster,inertia)\n",
    "plt.xlabel('# of clusters')\n",
    "plt.ylabel('Inertia')\n",
    "plt.subplot(212)\n",
    "plt.plot(n_cluster,calinski)\n",
    "plt.axvline(4 , c = 'green', ls ='--')\n",
    "plt.xlabel('# of clusters')\n",
    "plt.ylabel('Calinski')\n",
    "plt.show()"
   ]
  },
  {
   "cell_type": "markdown",
   "id": "a21b572d-ab04-4357-ad8e-3ef98bab9006",
   "metadata": {},
   "source": [
    "#### the optimal number of cluster in k-means algotithem is : 4\n",
    "#### let's try another algorithem:\n",
    "\n",
    "# 2. DBSCAN:"
   ]
  },
  {
   "cell_type": "code",
   "execution_count": 159,
   "id": "e29c8343-0ecb-4ae4-8d2d-9632d402e07c",
   "metadata": {},
   "outputs": [],
   "source": [
    "from sklearn.cluster import DBSCAN"
   ]
  },
  {
   "cell_type": "code",
   "execution_count": 162,
   "id": "a5f00be7-5c6d-4836-a06a-9f160734b33b",
   "metadata": {},
   "outputs": [
    {
     "data": {
      "text/plain": [
       "array([  0,   1,  -1, ..., 227,   0,   1], dtype=int64)"
      ]
     },
     "execution_count": 162,
     "metadata": {},
     "output_type": "execute_result"
    }
   ],
   "source": [
    "cls = DBSCAN(eps= 1 , min_samples=5)\n",
    "y_pred = cls.fit_predict(X_reduction_200)\n",
    "y_pred"
   ]
  },
  {
   "cell_type": "code",
   "execution_count": 163,
   "id": "b26ecf82-1009-4bc7-83c8-986a826a9eec",
   "metadata": {},
   "outputs": [
    {
     "data": {
      "text/plain": [
       "array([ -1,   0,   1,   2,   3,   4,   5,   6,   7,   8,   9,  10,  11,\n",
       "        12,  13,  14,  15,  16,  17,  18,  19,  20,  21,  22,  23,  24,\n",
       "        25,  26,  27,  28,  29,  30,  31,  32,  33,  34,  35,  36,  37,\n",
       "        38,  39,  40,  41,  42,  43,  44,  45,  46,  47,  48,  49,  50,\n",
       "        51,  52,  53,  54,  55,  56,  57,  58,  59,  60,  61,  62,  63,\n",
       "        64,  65,  66,  67,  68,  69,  70,  71,  72,  73,  74,  75,  76,\n",
       "        77,  78,  79,  80,  81,  82,  83,  84,  85,  86,  87,  88,  89,\n",
       "        90,  91,  92,  93,  94,  95,  96,  97,  98,  99, 100, 101, 102,\n",
       "       103, 104, 105, 106, 107, 108, 109, 110, 111, 112, 113, 114, 115,\n",
       "       116, 117, 118, 119, 120, 121, 122, 123, 124, 125, 126, 127, 128,\n",
       "       129, 130, 131, 132, 133, 134, 135, 136, 137, 138, 139, 140, 141,\n",
       "       142, 143, 144, 145, 146, 147, 148, 149, 150, 151, 152, 153, 154,\n",
       "       155, 156, 157, 158, 159, 160, 161, 162, 163, 164, 165, 166, 167,\n",
       "       168, 169, 170, 171, 172, 173, 174, 175, 176, 177, 178, 179, 180,\n",
       "       181, 182, 183, 184, 185, 186, 187, 188, 189, 190, 191, 192, 193,\n",
       "       194, 195, 196, 197, 198, 199, 200, 201, 202, 203, 204, 205, 206,\n",
       "       207, 208, 209, 210, 211, 212, 213, 214, 215, 216, 217, 218, 219,\n",
       "       220, 221, 222, 223, 224, 225, 226, 227, 228, 229, 230, 231, 232,\n",
       "       233, 234, 235, 236, 237, 238, 239, 240, 241, 242, 243, 244, 245,\n",
       "       246, 247, 248, 249, 250, 251, 252, 253, 254, 255, 256, 257, 258,\n",
       "       259, 260, 261, 262, 263, 264, 265, 266, 267, 268, 269, 270, 271,\n",
       "       272, 273, 274, 275, 276, 277, 278, 279, 280, 281, 282, 283, 284,\n",
       "       285, 286, 287, 288, 289, 290, 291, 292, 293, 294, 295, 296, 297,\n",
       "       298, 299, 300, 301, 302, 303, 304, 305, 306, 307, 308, 309, 310,\n",
       "       311, 312, 313, 314, 315, 316, 317, 318, 319, 320, 321, 322, 323,\n",
       "       324, 325, 326, 327, 328, 329, 330, 331, 332, 333, 334, 335, 336,\n",
       "       337, 338, 339, 340, 341, 342, 343, 344, 345, 346, 347, 348, 349,\n",
       "       350, 351, 352, 353, 354, 355, 356, 357, 358, 359, 360, 361, 362,\n",
       "       363, 364, 365, 366, 367, 368, 369, 370, 371, 372, 373, 374, 375,\n",
       "       376, 377, 378, 379, 380, 381, 382, 383, 384, 385, 386, 387, 388,\n",
       "       389, 390, 391, 392, 393, 394, 395, 396, 397, 398, 399, 400, 401,\n",
       "       402, 403, 404, 405, 406, 407, 408, 409, 410, 411, 412, 413, 414,\n",
       "       415, 416, 417, 418, 419, 420, 421, 422, 423, 424, 425, 426, 427,\n",
       "       428, 429, 430, 431, 432, 433, 434, 435, 436, 437, 438, 439, 440,\n",
       "       441, 442, 443, 444, 445, 446, 447, 448, 449, 450, 451, 452, 453,\n",
       "       454, 455, 456, 457, 458, 459, 460, 461, 462, 463, 464, 465, 466,\n",
       "       467, 468, 469, 470, 471, 472, 473, 474, 475, 476, 477, 478, 479,\n",
       "       480, 481, 482, 483, 484, 485, 486, 487, 488, 489, 490, 491, 492,\n",
       "       493, 494, 495, 496, 497, 498, 499, 500, 501, 502, 503, 504, 505,\n",
       "       506, 507, 508, 509, 510, 511, 512, 513, 514, 515, 516, 517, 518,\n",
       "       519, 520, 521, 522, 523, 524, 525, 526, 527, 528, 529, 530, 531,\n",
       "       532, 533, 534, 535, 536, 537, 538, 539, 540, 541, 542, 543, 544,\n",
       "       545, 546, 547, 548, 549, 550, 551, 552, 553, 554, 555, 556, 557,\n",
       "       558], dtype=int64)"
      ]
     },
     "execution_count": 163,
     "metadata": {},
     "output_type": "execute_result"
    }
   ],
   "source": [
    "np.unique(y_pred)"
   ]
  },
  {
   "cell_type": "markdown",
   "id": "75bf31a5-2c5f-4322-90b9-3107c261ad94",
   "metadata": {},
   "source": [
    "#### unbelievable! 559 clusters!!? let's try to choose better epsilon:"
   ]
  },
  {
   "cell_type": "code",
   "execution_count": 164,
   "id": "b93de5ae-faf4-439d-a489-7df606422e34",
   "metadata": {},
   "outputs": [
    {
     "data": {
      "text/plain": [
       "array([-1,  0], dtype=int64)"
      ]
     },
     "execution_count": 164,
     "metadata": {},
     "output_type": "execute_result"
    }
   ],
   "source": [
    "cls = DBSCAN(eps= 2 , min_samples=5)\n",
    "y_pred = cls.fit_predict(X_reduction_200)\n",
    "np.unique(y_pred)"
   ]
  },
  {
   "cell_type": "code",
   "execution_count": 165,
   "id": "7b316df6-d97e-4ca6-b9e1-4ac8a71213a0",
   "metadata": {},
   "outputs": [
    {
     "data": {
      "text/html": [
       "<div>\n",
       "<style scoped>\n",
       "    .dataframe tbody tr th:only-of-type {\n",
       "        vertical-align: middle;\n",
       "    }\n",
       "\n",
       "    .dataframe tbody tr th {\n",
       "        vertical-align: top;\n",
       "    }\n",
       "\n",
       "    .dataframe thead th {\n",
       "        text-align: right;\n",
       "    }\n",
       "</style>\n",
       "<table border=\"1\" class=\"dataframe\">\n",
       "  <thead>\n",
       "    <tr style=\"text-align: right;\">\n",
       "      <th></th>\n",
       "      <th>podcast_name</th>\n",
       "      <th>podtail_link</th>\n",
       "      <th>itunes_id</th>\n",
       "      <th>podcastindex_id</th>\n",
       "      <th>description</th>\n",
       "      <th>rss_link</th>\n",
       "      <th>language</th>\n",
       "      <th>categories</th>\n",
       "      <th>number_of_podcasts</th>\n",
       "      <th>rating</th>\n",
       "    </tr>\n",
       "  </thead>\n",
       "  <tbody>\n",
       "    <tr>\n",
       "      <th>11468</th>\n",
       "      <td>The ARC Creative Podcast: Educating + Inspirin...</td>\n",
       "      <td>https://podtail.com/podcast/the-arc-creative-p...</td>\n",
       "      <td>1412858488</td>\n",
       "      <td>1145182</td>\n",
       "      <td>From the creators of ARC interviews + The Expe...</td>\n",
       "      <td>https://arcthisis.libsyn.com/rss</td>\n",
       "      <td>en</td>\n",
       "      <td>Arts,Visual,Business,Management,Marketing,Soci...</td>\n",
       "      <td>34.0</td>\n",
       "      <td>4.7</td>\n",
       "    </tr>\n",
       "  </tbody>\n",
       "</table>\n",
       "</div>"
      ],
      "text/plain": [
       "                                            podcast_name  \\\n",
       "11468  The ARC Creative Podcast: Educating + Inspirin...   \n",
       "\n",
       "                                            podtail_link   itunes_id  \\\n",
       "11468  https://podtail.com/podcast/the-arc-creative-p...  1412858488   \n",
       "\n",
       "       podcastindex_id                                        description  \\\n",
       "11468          1145182  From the creators of ARC interviews + The Expe...   \n",
       "\n",
       "                               rss_link language  \\\n",
       "11468  https://arcthisis.libsyn.com/rss       en   \n",
       "\n",
       "                                              categories  number_of_podcasts  \\\n",
       "11468  Arts,Visual,Business,Management,Marketing,Soci...                34.0   \n",
       "\n",
       "       rating  \n",
       "11468     4.7  "
      ]
     },
     "execution_count": 165,
     "metadata": {},
     "output_type": "execute_result"
    }
   ],
   "source": [
    "data[y_pred == -1]"
   ]
  },
  {
   "cell_type": "code",
   "execution_count": 166,
   "id": "256630e2-67ee-48d0-94db-afee21cc0143",
   "metadata": {},
   "outputs": [
    {
     "data": {
      "text/plain": [
       "array(['Arts,Visual,Business,Management,Marketing,Society,Culture,Places'],\n",
       "      dtype=object)"
      ]
     },
     "execution_count": 166,
     "metadata": {},
     "output_type": "execute_result"
    }
   ],
   "source": [
    "data[y_pred == -1]['categories'].values"
   ]
  },
  {
   "cell_type": "code",
   "execution_count": 167,
   "id": "34cc1879-caea-40ba-b846-c9fa573c5efa",
   "metadata": {},
   "outputs": [
    {
     "data": {
      "text/plain": [
       "array([-1,  0,  1,  2,  3,  4,  5,  6,  7,  8,  9], dtype=int64)"
      ]
     },
     "execution_count": 167,
     "metadata": {},
     "output_type": "execute_result"
    }
   ],
   "source": [
    "cls = DBSCAN(eps= 1.45, min_samples=5)\n",
    "y_pred = cls.fit_predict(X_reduction_200)\n",
    "np.unique(y_pred)"
   ]
  },
  {
   "cell_type": "code",
   "execution_count": 168,
   "id": "1fd924cd-ebf8-4454-a55c-fa5e88644cba",
   "metadata": {},
   "outputs": [],
   "source": [
    "# which eps?? Try a range to find better epsilone:\n",
    "\n",
    "Calinski =[]\n",
    "epsilon = []\n",
    "\n",
    "for eps in np.linspace(1,1.5,100):\n",
    "    cls = DBSCAN(eps= eps, min_samples= 5)\n",
    "    y_pred =  cls.fit_predict(X_reduction_200)\n",
    "    if np.unique(y_pred).shape[0] == 2 and -1 in np.unique(y_pred):\n",
    "        break\n",
    "    Calinski.append(calinski_harabasz_score(X=X_reduction_200[y_pred != -1] ,\n",
    "                                            labels= y_pred[y_pred != -1]))\n",
    "    epsilon.append(eps)"
   ]
  },
  {
   "cell_type": "code",
   "execution_count": 170,
   "id": "580f065a-40b0-4c40-9fc0-01082faf38c5",
   "metadata": {},
   "outputs": [
    {
     "data": {
      "image/png": "[encoded data removed]",
      "text/plain": [
       "<Figure size 800x300 with 1 Axes>"
      ]
     },
     "metadata": {},
     "output_type": "display_data"
    }
   ],
   "source": [
    "plt.figure(figsize=(8,3))\n",
    "plt.plot(epsilon, Calinski)\n",
    "plt.xlabel('Calinski score in DBSCAN. linspace(1,1.5,100)')\n",
    "plt.ylabel('Epsilone')\n",
    "plt.show()"
   ]
  },
  {
   "cell_type": "code",
   "execution_count": 171,
   "id": "39660063-b26c-49a8-82a4-aa664d6c81cb",
   "metadata": {},
   "outputs": [],
   "source": [
    "# have a closer look:\n",
    "Calinski =[]\n",
    "epsilon = []\n",
    "\n",
    "for eps in np.linspace(1,1.5,21):\n",
    "    cls = DBSCAN(eps= eps, min_samples= 5)\n",
    "    y_pred =  cls.fit_predict(X_reduction_200)\n",
    "    if np.unique(y_pred).shape[0] == 2 and -1 in np.unique(y_pred):\n",
    "        break\n",
    "    Calinski.append(calinski_harabasz_score(X=X_reduction_200[y_pred != -1] ,\n",
    "                                            labels= y_pred[y_pred != -1]))\n",
    "    epsilon.append(eps)"
   ]
  },
  {
   "cell_type": "code",
   "execution_count": 172,
   "id": "645ebad3-cf7d-4489-9097-d5cdb5ab3aa8",
   "metadata": {},
   "outputs": [
    {
     "data": {
      "image/png": "[encoded data removed]",
      "text/plain": [
       "<Figure size 800x300 with 1 Axes>"
      ]
     },
     "metadata": {},
     "output_type": "display_data"
    }
   ],
   "source": [
    "plt.figure(figsize=(8,3))\n",
    "plt.plot(epsilon , Calinski)\n",
    "plt.axvline(1.3 , c='gray' , ls= '--')\n",
    "plt.xlabel('Calinski score in DBSCAN. linspace(1,1.5,21)')\n",
    "plt.ylabel('Epsilone')\n",
    "plt.show()"
   ]
  },
  {
   "cell_type": "code",
   "execution_count": 173,
   "id": "cefce5b3-4c7b-43c9-a85a-adc38278f42d",
   "metadata": {},
   "outputs": [
    {
     "data": {
      "text/plain": [
       "array([-1,  0,  1,  2,  3,  4,  5,  6,  7,  8,  9, 10, 11, 12, 13, 14, 15,\n",
       "       16, 17, 18, 19, 20, 21, 22, 23, 24, 25, 26, 27, 28, 29],\n",
       "      dtype=int64)"
      ]
     },
     "execution_count": 173,
     "metadata": {},
     "output_type": "execute_result"
    }
   ],
   "source": [
    "# so eps= 1.3 is the best :\n",
    "cls = DBSCAN(eps= 1.3, min_samples=5)\n",
    "y_pred = cls.fit_predict(X_reduction_200)\n",
    "np.unique(y_pred)"
   ]
  },
  {
   "cell_type": "code",
   "execution_count": 174,
   "id": "1e3871b9-a17a-4e54-8fe9-684b3ac6f776",
   "metadata": {},
   "outputs": [
    {
     "name": "stdout",
     "output_type": "stream",
     "text": [
      "The number of outliers:  835\n",
      "percentage of outliers:  5.872011251758087\n"
     ]
    }
   ],
   "source": [
    "print ( 'The number of outliers: ', data[y_pred==-1].shape[0] )\n",
    "print ( 'percentage of outliers: ', data[y_pred==-1].shape[0] / data.shape[0] * 100)"
   ]
  },
  {
   "cell_type": "markdown",
   "id": "2366d8dd-690d-4bbc-b8e1-3bfee047f8c8",
   "metadata": {},
   "source": [
    "# 3. Spectral Clustering:"
   ]
  },
  {
   "cell_type": "code",
   "execution_count": 78,
   "id": "6728abf0-32e6-4449-9140-7a091b6c97b2",
   "metadata": {},
   "outputs": [],
   "source": [
    "from sklearn.cluster import SpectralClustering"
   ]
  },
  {
   "cell_type": "code",
   "execution_count": 79,
   "id": "093dd252-d5dd-4f43-8347-0e1e82f267e5",
   "metadata": {},
   "outputs": [],
   "source": [
    "cls = SpectralClustering(n_clusters=28)\n",
    "y_pred = cls.fit_predict(X_reduction_200)"
   ]
  },
  {
   "cell_type": "code",
   "execution_count": 80,
   "id": "90de2390-c3fc-4c0d-94dc-3ed567ba57d1",
   "metadata": {},
   "outputs": [
    {
     "data": {
      "text/plain": [
       "334.5899327917519"
      ]
     },
     "execution_count": 80,
     "metadata": {},
     "output_type": "execute_result"
    }
   ],
   "source": [
    "calinski_harabasz_score(X=X_reduction_200, labels = y_pred)"
   ]
  },
  {
   "cell_type": "code",
   "execution_count": 82,
   "id": "859d6824-e78e-4134-aa7d-86681015a7dc",
   "metadata": {},
   "outputs": [],
   "source": [
    "calinski =[]\n",
    "n_clusters = []\n",
    "for k in range(10,30,5):\n",
    "    cls= SpectralClustering(n_clusters= k)\n",
    "    y_pred = cls.fit_predict(X_reduction_200)\n",
    "    calinski.append( calinski_harabasz_score(X= X_reduction_200 , labels= y_pred))\n",
    "    n_clusters.append(k)\n"
   ]
  },
  {
   "cell_type": "code",
   "execution_count": 84,
   "id": "c0ccce4e-012e-4978-b3de-cb989293f4a3",
   "metadata": {},
   "outputs": [
    {
     "data": {
      "image/png": "[encoded data removed]",
      "text/plain": [
       "<Figure size 640x480 with 1 Axes>"
      ]
     },
     "metadata": {},
     "output_type": "display_data"
    }
   ],
   "source": [
    "plt.plot(n_clusters , calinski)\n",
    "plt.ylabel('Calinski score in Spectral Clustring')\n",
    "plt.xlabel('Clusters')\n",
    "plt.show()"
   ]
  },
  {
   "cell_type": "code",
   "execution_count": 86,
   "id": "58b4fee1-1f2d-465c-ab15-ca5590fccc35",
   "metadata": {},
   "outputs": [
    {
     "data": {
      "text/plain": [
       "array([ 0,  1,  2,  3,  4,  5,  6,  7,  8,  9, 10, 11, 12, 13, 14, 15, 16,\n",
       "       17, 18, 19, 20, 21, 22, 23, 24])"
      ]
     },
     "execution_count": 86,
     "metadata": {},
     "output_type": "execute_result"
    }
   ],
   "source": [
    "np.unique(y_pred)"
   ]
  },
  {
   "cell_type": "code",
   "execution_count": 88,
   "id": "decdc8ca-f4d6-4f51-a221-1cdd9a17f830",
   "metadata": {},
   "outputs": [
    {
     "data": {
      "text/plain": [
       "45       Science,Social,Education,Self Improvement,Heal...\n",
       "68       Education,Self Improvement,Health,Fitness,Soci...\n",
       "222       Education,Self Improvement,Health,Fitness,Mental\n",
       "229              Education,Self Improvement,Health,Fitness\n",
       "291      Health,Fitness,Mental,Business,Entrepreneurshi...\n",
       "                               ...                        \n",
       "14067     Health,Fitness,Mental,Education,Self Improvement\n",
       "14073    Health,Fitness,Alternative,Education,Self Impr...\n",
       "14074     Health,Fitness,Mental,Education,Self Improvement\n",
       "14075     Education,Self Improvement,Health,Fitness,Mental\n",
       "14076    Health,Fitness,Sexuality,Education,Self Improv...\n",
       "Name: categories, Length: 405, dtype: object"
      ]
     },
     "execution_count": 88,
     "metadata": {},
     "output_type": "execute_result"
    }
   ],
   "source": [
    "data.iloc[y_pred ==20]['categories']"
   ]
  },
  {
   "cell_type": "code",
   "execution_count": 89,
   "id": "977ad0d0-8ab2-41bc-9e4c-6bf26c0559c3",
   "metadata": {},
   "outputs": [
    {
     "data": {
      "text/plain": [
       "45       [Science, Social, Education, Self Improvement,...\n",
       "68       [Education, Self Improvement, Health, Fitness,...\n",
       "222      [Education, Self Improvement, Health, Fitness,...\n",
       "229         [Education, Self Improvement, Health, Fitness]\n",
       "291      [Health, Fitness, Mental, Business, Entreprene...\n",
       "                               ...                        \n",
       "14067    [Health, Fitness, Mental, Education, Self Impr...\n",
       "14073    [Health, Fitness, Alternative, Education, Self...\n",
       "14074    [Health, Fitness, Mental, Education, Self Impr...\n",
       "14075    [Education, Self Improvement, Health, Fitness,...\n",
       "14076    [Health, Fitness, Sexuality, Education, Self I...\n",
       "Name: categories, Length: 405, dtype: object"
      ]
     },
     "execution_count": 89,
     "metadata": {},
     "output_type": "execute_result"
    }
   ],
   "source": [
    "data.iloc[y_pred ==20]['categories'].str.split(',')"
   ]
  },
  {
   "cell_type": "code",
   "execution_count": null,
   "id": "a2b60edf-8493-4fb9-9520-6ff8f88d5e2d",
   "metadata": {},
   "outputs": [],
   "source": []
  }
 ],
 "metadata": {
  "kernelspec": {
   "display_name": "Python 3 (ipykernel)",
   "language": "python",
   "name": "python3"
  },
  "language_info": {
   "codemirror_mode": {
    "name": "ipython",
    "version": 3
   },
   "file_extension": ".py",
   "mimetype": "text/x-python",
   "name": "python",
   "nbconvert_exporter": "python",
   "pygments_lexer": "ipython3",
   "version": "3.11.5"
  }
 },
 "nbformat": 4,
 "nbformat_minor": 5
}
